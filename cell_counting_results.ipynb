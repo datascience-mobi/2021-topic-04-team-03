{
 "cells": [
  {
   "cell_type": "code",
   "execution_count": 55,
   "metadata": {},
   "outputs": [],
   "source": [
    "import pathlib as pl\n",
    "import matplotlib.pyplot as plt\n",
    "import numpy as np\n",
    "from skimage.io import imread_collection\n",
    "from nuclei_segmentation import all_functions, metrics, visualisation\n",
    "import pandas as pd\n",
    "import json"
   ]
  },
  {
   "cell_type": "markdown",
   "metadata": {},
   "source": [
    "## Cell nuclei counting\n",
    "\n",
    "### Results\n",
    "\n",
    "The cell nuclei counting algorithm was tested on the ground truth images from N2DH-GOWT1 and N2DL-HeLa datasets. The single cell nuclei in the ground truth images in these datasets have different intensities. Therefore it is possible to extract the ground truth number of cell nuclei from the images.\n",
    "\n",
    "The results are presented in the following tables."
   ]
  },
  {
   "cell_type": "code",
   "execution_count": 56,
   "metadata": {},
   "outputs": [
    {
     "data": {
      "text/html": [
       "<style  type=\"text/css\" >\n",
       "</style><table id=\"T_195f1_\" ><caption>Table 1: Results of the cell counting on the N2DH-GOWT1 dataset.</caption><thead>    <tr>        <th class=\"blank level0\" ></th>        <th class=\"col_heading level0 col0\" >Calculated number</th>        <th class=\"col_heading level0 col1\" >Ground truth number</th>        <th class=\"col_heading level0 col2\" >Absolute difference</th>        <th class=\"col_heading level0 col3\" >Relative difference</th>    </tr></thead><tbody>\n",
       "                <tr>\n",
       "                        <th id=\"T_195f1_level0_row0\" class=\"row_heading level0 row0\" >man_seg01.tif</th>\n",
       "                        <td id=\"T_195f1_row0_col0\" class=\"data row0 col0\" >24</td>\n",
       "                        <td id=\"T_195f1_row0_col1\" class=\"data row0 col1\" >23</td>\n",
       "                        <td id=\"T_195f1_row0_col2\" class=\"data row0 col2\" >1</td>\n",
       "                        <td id=\"T_195f1_row0_col3\" class=\"data row0 col3\" >0.043478</td>\n",
       "            </tr>\n",
       "            <tr>\n",
       "                        <th id=\"T_195f1_level0_row1\" class=\"row_heading level0 row1\" >man_seg21.tif</th>\n",
       "                        <td id=\"T_195f1_row1_col0\" class=\"data row1 col0\" >23</td>\n",
       "                        <td id=\"T_195f1_row1_col1\" class=\"data row1 col1\" >24</td>\n",
       "                        <td id=\"T_195f1_row1_col2\" class=\"data row1 col2\" >-1</td>\n",
       "                        <td id=\"T_195f1_row1_col3\" class=\"data row1 col3\" >-0.041667</td>\n",
       "            </tr>\n",
       "            <tr>\n",
       "                        <th id=\"T_195f1_level0_row2\" class=\"row_heading level0 row2\" >man_seg31.tif</th>\n",
       "                        <td id=\"T_195f1_row2_col0\" class=\"data row2 col0\" >24</td>\n",
       "                        <td id=\"T_195f1_row2_col1\" class=\"data row2 col1\" >22</td>\n",
       "                        <td id=\"T_195f1_row2_col2\" class=\"data row2 col2\" >2</td>\n",
       "                        <td id=\"T_195f1_row2_col3\" class=\"data row2 col3\" >0.090909</td>\n",
       "            </tr>\n",
       "            <tr>\n",
       "                        <th id=\"T_195f1_level0_row3\" class=\"row_heading level0 row3\" >man_seg39.tif</th>\n",
       "                        <td id=\"T_195f1_row3_col0\" class=\"data row3 col0\" >23</td>\n",
       "                        <td id=\"T_195f1_row3_col1\" class=\"data row3 col1\" >25</td>\n",
       "                        <td id=\"T_195f1_row3_col2\" class=\"data row3 col2\" >-2</td>\n",
       "                        <td id=\"T_195f1_row3_col3\" class=\"data row3 col3\" >-0.080000</td>\n",
       "            </tr>\n",
       "            <tr>\n",
       "                        <th id=\"T_195f1_level0_row4\" class=\"row_heading level0 row4\" >man_seg52.tif</th>\n",
       "                        <td id=\"T_195f1_row4_col0\" class=\"data row4 col0\" >30</td>\n",
       "                        <td id=\"T_195f1_row4_col1\" class=\"data row4 col1\" >30</td>\n",
       "                        <td id=\"T_195f1_row4_col2\" class=\"data row4 col2\" >0</td>\n",
       "                        <td id=\"T_195f1_row4_col3\" class=\"data row4 col3\" >0.000000</td>\n",
       "            </tr>\n",
       "            <tr>\n",
       "                        <th id=\"T_195f1_level0_row5\" class=\"row_heading level0 row5\" >man_seg72.tif</th>\n",
       "                        <td id=\"T_195f1_row5_col0\" class=\"data row5 col0\" >28</td>\n",
       "                        <td id=\"T_195f1_row5_col1\" class=\"data row5 col1\" >28</td>\n",
       "                        <td id=\"T_195f1_row5_col2\" class=\"data row5 col2\" >0</td>\n",
       "                        <td id=\"T_195f1_row5_col3\" class=\"data row5 col3\" >0.000000</td>\n",
       "            </tr>\n",
       "    </tbody></table>"
      ],
      "text/plain": [
       "<pandas.io.formats.style.Styler at 0x1a9cb6552b0>"
      ]
     },
     "execution_count": 56,
     "metadata": {},
     "output_type": "execute_result"
    }
   ],
   "source": [
    "with open(str(pl.Path('Results/cell_counting_results.json')), \"r\") as file:\n",
    "    cell_counting_results = json.load(file)\n",
    "    \n",
    "table_GOWT1 = pd.DataFrame.from_dict(cell_counting_results[\"N2DH-GOWT1\"])\n",
    "table_GOWT1 = table_GOWT1.set_axis([\"man_seg01.tif\", \"man_seg21.tif\", \"man_seg31.tif\", \n",
    "                                    \"man_seg39.tif\", \"man_seg52.tif\", \"man_seg72.tif\"], axis = 0)\n",
    "table_GOWT1.style.set_caption('Table 1: Results of the cell counting on the N2DH-GOWT1 dataset.')"
   ]
  },
  {
   "cell_type": "code",
   "execution_count": 57,
   "metadata": {},
   "outputs": [
    {
     "data": {
      "text/html": [
       "<style  type=\"text/css\" >\n",
       "</style><table id=\"T_9ae0d_\" ><caption>Table 2: Results of the cell counting on the N2DL-HeLa dataset.</caption><thead>    <tr>        <th class=\"blank level0\" ></th>        <th class=\"col_heading level0 col0\" >Calculated number</th>        <th class=\"col_heading level0 col1\" >Ground truth number</th>        <th class=\"col_heading level0 col2\" >Absolute difference</th>        <th class=\"col_heading level0 col3\" >Relative difference</th>    </tr></thead><tbody>\n",
       "                <tr>\n",
       "                        <th id=\"T_9ae0d_level0_row0\" class=\"row_heading level0 row0\" >man_seg13.tif</th>\n",
       "                        <td id=\"T_9ae0d_row0_col0\" class=\"data row0 col0\" >58</td>\n",
       "                        <td id=\"T_9ae0d_row0_col1\" class=\"data row0 col1\" >59</td>\n",
       "                        <td id=\"T_9ae0d_row0_col2\" class=\"data row0 col2\" >-1</td>\n",
       "                        <td id=\"T_9ae0d_row0_col3\" class=\"data row0 col3\" >-0.016949</td>\n",
       "            </tr>\n",
       "            <tr>\n",
       "                        <th id=\"T_9ae0d_level0_row1\" class=\"row_heading level0 row1\" >man_seg52.tif</th>\n",
       "                        <td id=\"T_9ae0d_row1_col0\" class=\"data row1 col0\" >107</td>\n",
       "                        <td id=\"T_9ae0d_row1_col1\" class=\"data row1 col1\" >109</td>\n",
       "                        <td id=\"T_9ae0d_row1_col2\" class=\"data row1 col2\" >-2</td>\n",
       "                        <td id=\"T_9ae0d_row1_col3\" class=\"data row1 col3\" >-0.018349</td>\n",
       "            </tr>\n",
       "            <tr>\n",
       "                        <th id=\"T_9ae0d_level0_row2\" class=\"row_heading level0 row2\" >man_seg75.tif</th>\n",
       "                        <td id=\"T_9ae0d_row2_col0\" class=\"data row2 col0\" >365</td>\n",
       "                        <td id=\"T_9ae0d_row2_col1\" class=\"data row2 col1\" >349</td>\n",
       "                        <td id=\"T_9ae0d_row2_col2\" class=\"data row2 col2\" >16</td>\n",
       "                        <td id=\"T_9ae0d_row2_col3\" class=\"data row2 col3\" >0.045845</td>\n",
       "            </tr>\n",
       "            <tr>\n",
       "                        <th id=\"T_9ae0d_level0_row3\" class=\"row_heading level0 row3\" >man_seg79.tif</th>\n",
       "                        <td id=\"T_9ae0d_row3_col0\" class=\"data row3 col0\" >329</td>\n",
       "                        <td id=\"T_9ae0d_row3_col1\" class=\"data row3 col1\" >342</td>\n",
       "                        <td id=\"T_9ae0d_row3_col2\" class=\"data row3 col2\" >-13</td>\n",
       "                        <td id=\"T_9ae0d_row3_col3\" class=\"data row3 col3\" >-0.038012</td>\n",
       "            </tr>\n",
       "    </tbody></table>"
      ],
      "text/plain": [
       "<pandas.io.formats.style.Styler at 0x1a9cb655af0>"
      ]
     },
     "execution_count": 57,
     "metadata": {},
     "output_type": "execute_result"
    }
   ],
   "source": [
    "table_HeLa = pd.DataFrame.from_dict(cell_counting_results[\"N2DL-HeLa\"])\n",
    "table_HeLa = table_HeLa.set_axis([\"man_seg13.tif\", \"man_seg52.tif\", \"man_seg75.tif\", \"man_seg79.tif\"], axis = 0)\n",
    "table_HeLa.style.set_caption('Table 2: Results of the cell counting on the N2DL-HeLa dataset.')"
   ]
  },
  {
   "cell_type": "code",
   "execution_count": 58,
   "metadata": {},
   "outputs": [
    {
     "name": "stdout",
     "output_type": "stream",
     "text": [
      "Relative error (datasets combined): 0.001474351498372345 +/- 0.04737068686901992\n"
     ]
    }
   ],
   "source": [
    "mean_error = np.abs(np.mean(cell_counting_results[\"N2DL-HeLa\"][\"Relative difference\"] \n",
    "                            + cell_counting_results[\"N2DH-GOWT1\"][\"Relative difference\"]))\n",
    "standard_deviation =np.abs(np.std(cell_counting_results[\"N2DL-HeLa\"][\"Relative difference\"] \n",
    "                                  + cell_counting_results[\"N2DH-GOWT1\"][\"Relative difference\"]))\n",
    "print(\"Relative error (datasets combined): {} +/- {}\".format(mean_error, standard_deviation))"
   ]
  },
  {
   "cell_type": "code",
   "execution_count": 59,
   "metadata": {},
   "outputs": [],
   "source": [
    "######### DELETE ##########\n",
    "col_gt_img_HeLa = imread_collection(str(pl.Path('Data/N2DL-HeLa/gt/*.tif')))\n",
    "col_gt_img_GOWT1 = imread_collection(str(pl.Path('Data/N2DH-GOWT1/gt/*.tif')))"
   ]
  },
  {
   "cell_type": "markdown",
   "metadata": {},
   "source": [
    "### Discussion\n",
    "\n",
    "Our algorithm could correctly calculate the cell nuclei number in only 2 of 10 images. The relative error did not exceed 10% and 5% when applied to the N2DH-GOWT1 and on the N2DL-HeLa datasets respectivly. By analyzing the images we determined the possible causes of the errors.\n",
    "\n",
    "Firstly, some images contain touching cell nuclei as shown in the following figure."
   ]
  },
  {
   "cell_type": "code",
   "execution_count": null,
   "metadata": {},
   "outputs": [],
   "source": []
  },
  {
   "cell_type": "code",
   "execution_count": 60,
   "metadata": {},
   "outputs": [
    {
     "data": {
      "image/png": "[encoded data removed]",
      "text/plain": [
       "<Figure size 432x288 with 1 Axes>"
      ]
     },
     "metadata": {
      "needs_background": "light"
     },
     "output_type": "display_data"
    }
   ],
   "source": [
    "plt.imshow(col_gt_img_GOWT1[1][660:800, 800:940], 'gray')\n",
    "plt.axis(\"off\")\n",
    "plt.title(\"A section of the man_seg21.tif image\\n from the N2DH-GOWT1 dataset.\", pad = 20);"
   ]
  },
  {
   "cell_type": "markdown",
   "metadata": {},
   "source": [
    "The two cell nuclei have a common border in this case, therefore our algorithm detects only one cell.\n",
    "\n",
    "In other cases there are small black regions inside the cell nuclei, as shown in the following figure."
   ]
  },
  {
   "cell_type": "code",
   "execution_count": 61,
   "metadata": {},
   "outputs": [
    {
     "data": {
      "image/png": "[encoded data removed]",
      "text/plain": [
       "<Figure size 432x288 with 1 Axes>"
      ]
     },
     "metadata": {
      "needs_background": "light"
     },
     "output_type": "display_data"
    }
   ],
   "source": [
    "plt.imshow(col_gt_img_HeLa[2][620:660, 1020:1070], 'gray')\n",
    "plt.axis(\"off\")\n",
    "plt.title(\"A section of the man_seg75.tif image\\n from the N2DH-HeLa dataset.\", pad = 20);"
   ]
  },
  {
   "cell_type": "markdown",
   "metadata": {},
   "source": [
    "In this case our algorithm would detect not only the border around the cell, but also the border around the black pixel inside the cell. Since these two borders do not touch, they would be assigned to two different groups and therefore counted as two cell nuclei."
   ]
  }
 ],
 "metadata": {
  "kernelspec": {
   "display_name": "Python 3",
   "language": "python",
   "name": "python3"
  },
  "language_info": {
   "codemirror_mode": {
    "name": "ipython",
    "version": 3
   },
   "file_extension": ".py",
   "mimetype": "text/x-python",
   "name": "python",
   "nbconvert_exporter": "python",
   "pygments_lexer": "ipython3",
   "version": "3.9.4"
  }
 },
 "nbformat": 4,
 "nbformat_minor": 1
}
