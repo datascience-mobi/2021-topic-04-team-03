{
 "cells": [
  {
   "cell_type": "markdown",
   "metadata": {},
   "source": [
    "**Report of Project 3: \"Implementation and evaluation of Otsu Thresholding\"**\n",
    "\n",
    "*presented by Elizaveta Chernova, Veronika Schuler, Laura Wächter, Hannah Winter*\n",
    "\n",
    "Otsu Thresholding is "
   ]
  },
  {
   "cell_type": "code",
   "execution_count": 2,
   "metadata": {},
   "outputs": [],
   "source": [
    "from nuclei_segmentation import otsu"
   ]
  },
  {
   "cell_type": "code",
   "execution_count": 9,
   "metadata": {},
   "outputs": [],
   "source": [
    "from skimage.io import imread\n",
    "from skimage.io import imshow\n",
    "from matplotlib import pyplot as plt\n",
    "from skimage.filters import threshold_otsu\n",
    "from nuclei_segmentation import pathlist\n",
    "from nuclei_segmentation import otsu\n",
    "from nuclei_segmentation import evaluation"
   ]
  },
  {
   "cell_type": "code",
   "execution_count": 6,
   "metadata": {},
   "outputs": [],
   "source": [
    "#image = imread(r'Data\\NIH3T3\\im\\dna-27.png')"
   ]
  },
  {
   "cell_type": "code",
   "execution_count": 7,
   "metadata": {},
   "outputs": [],
   "source": [
    "#%%timeit\n",
    "#otsu.otsu(image)"
   ]
  },
  {
   "cell_type": "code",
   "execution_count": 8,
   "metadata": {},
   "outputs": [],
   "source": [
    "#%%timeit\n",
    "#threshold_otsu(image)"
   ]
  },
  {
   "cell_type": "code",
   "execution_count": null,
   "metadata": {},
   "outputs": [],
   "source": [
    "#%%timeit\n",
    "#otsu.otsuna(image)"
   ]
  },
  {
   "cell_type": "code",
   "execution_count": null,
   "metadata": {
    "scrolled": true
   },
   "outputs": [],
   "source": [
    "#%%timeit\n",
    "#otsu.otsu_faster(image)"
   ]
  },
  {
   "cell_type": "markdown",
   "metadata": {},
   "source": [
    "**This is our pipeline assembly used on all pictures**"
   ]
  },
  {
   "cell_type": "code",
   "execution_count": 12,
   "metadata": {
    "scrolled": true
   },
   "outputs": [],
   "source": [
    "    #N2DH_GOWT1_gt_list = pathlist(\"./Data/N2DH-GOWT1/gt\", \".tif\")\n",
    "    #print(N2DH_GOWT1_gt_list)\n",
    "    #N2DH_GOWT1_img_list = pathlist(\"./Data/N2DH-GOWT1/img\", \".tif\")\n",
    "    #print(N2DH_GOWT1_img_list)\n",
    "\n",
    "    #N2DL_HeLa_gt_list = pathlist(\"./Data/N2DL-HeLa/gt\", \".tif\")\n",
    "    #print(N2DL_HeLa_gt_list)\n",
    "    #N2DL_HeLa_img_list = pathlist(\"./Data/N2DL-HeLa/img\", \".tif\")\n",
    "    #print(N2DL_HeLa_img_list)\n",
    "\n",
    "    #NIH3T3_gt_list = pathlist(\"./Data/NIH3T3/gt\", \".png\")\n",
    "    #print(NIH3T3_gt_list)\n",
    "    #NIH3T3_img_list = pathlist(\"./Data/NIH3T3/im\", \".png\")\n",
    "    #print(NIH3T3_img_list)"
   ]
  },
  {
   "cell_type": "code",
   "execution_count": 11,
   "metadata": {},
   "outputs": [],
   "source": [
    "#%pylab\n",
    "#%matplotlib inline\n",
    "\n",
    "\n",
    "#for image in N2DH_GOWT1_gt_list:\n",
    "    #N2DH_GOWT1 = imread(image)\n",
    "    #figure()\n",
    "    #imshow()"
   ]
  },
  {
   "cell_type": "code",
   "execution_count": null,
   "metadata": {},
   "outputs": [],
   "source": [
    "from skimage.io import imread_collection\n",
    "\n",
    "#1st dataset N2DH_GOWT1\n",
    "img_N2DH_GOWT1_dir = [r'''Data/N2DH-GOWT1/img/*.tif, plugin='tifffile''']\n",
    "img_N2DH_GOWT1 = imread_collection(img_N2DH_GOWT1_dir)\n",
    "\n",
    "gt_N2DH_GOWT1_dir = [r'''Data/N2DH-GOWT1/gt/*.tif, plugin='tifffile''']\n",
    "gt_N2DH_GOWT1 = imread_collection(gt_N2DH_GOWT1_dir)\n",
    "\n",
    "#an example of accessing a single image from a list \n",
    "print(img_N2DH_GOWT1[0])\n",
    "plt.imshow(img_N2DH_GOWT1[0], \"gray\")\n",
    "plt.show()\n",
    "\n",
    "#path:\n",
    "clipped_list_N2DH_GOWT1 = []\n",
    "gt_list_N2DH_GOWT1 = []\n",
    "\n",
    "for i in col_img:\n",
    "    threshold, goodness = otsu.otsu_faster(i)\n",
    "    clipped_list_N2DH_GOWT1.append(otsu.clipping(i,threshold))\n",
    "\n",
    "for i in col_gt:\n",
    "    gt_list_N2DH_GOWT1.append(i)\n",
    "\n",
    "for i in range(len(clipped_list_N2DH_GOWT1)):\n",
    "    print(evaluation.dice_score_faster(clipped_list_N2DH_GOWT1[i], gt_list_N2DH_GOWT1[i]))\n",
    "\n",
    "#2nd dataset N2DL_HeLa\n",
    "img_N2DL_HeLa_dir = [r'''Data/N2DL-HeLa/img/*.tif, plugin='tifffile''']\n",
    "img_N2DL_HeLa = imread_collection(img_N2DL_HeLa_dir)\n",
    "\n",
    "gt_N2DL_HeLa_dir = [r'''Data/N2DL-HeLa/gt/*.tif, plugin='tifffile''']\n",
    "gt_N2DL_HeLa = imread_collection(gt_N2DL_HeLa_dir)\n",
    "\n",
    "#path:\n",
    "clipped_list_N2DL_HeLa = []\n",
    "gt_list_N2DL_HeLa = []\n",
    "\n",
    "for i in col_img:\n",
    "    threshold, goodness = otsu.otsu_faster(i)\n",
    "    clipped_list_N2DL_HeLa.append(otsu.clipping(i,threshold))\n",
    "\n",
    "for i in col_gt:\n",
    "    gt_list_N2DL_HeLa.append(i)\n",
    "\n",
    "for i in range(len(clipped_list_N2DL_HeLa)):\n",
    "    print(evaluation.dice_score_faster(clipped_list_N2DL_HeLa[i], gt_list_N2DL_HeLa[i]))\n",
    "\n",
    "#3rd dataset NIH3T3\n",
    "img_NIH3T3_dir = [r'''Data/NIH3T3/img/*.png''']\n",
    "img_NIH3T3 = imread_collection(img_NIH3T3_dir)\n",
    "\n",
    "gt_NIH3T3_dir = [r'''Data/NIH3T3/gt/*.png''']\n",
    "gt_NIH3T3 = imread_collection(gt_NIH3T3_dir)\n",
    "\n",
    "#path:\n",
    "clipped_list_NIH3T3 = []\n",
    "gt_list_NIH3T3 = []\n",
    "\n",
    "for i in col_img:\n",
    "    threshold, goodness = otsu.otsu_faster(i)\n",
    "    clipped_list_NIH3T3.append(otsu.clipping(i,threshold))\n",
    "\n",
    "for i in col_gt:\n",
    "    gt_list_NIH3T3.append(i)\n",
    "\n",
    "for i in range(len(clipped_list_NIH3T3)):\n",
    "    print(evaluation.dice_score_faster(clipped_list_NIH3T3[i], gt_list_NIH3T3[i]))"
   ]
  },
  {
   "cell_type": "markdown",
   "metadata": {},
   "source": [
    "**The following shows our pipeline used on a single image**"
   ]
  },
  {
   "cell_type": "code",
   "execution_count": null,
   "metadata": {},
   "outputs": [
    {
     "name": "stdout",
     "output_type": "stream",
     "text": [
      "Using matplotlib backend: Qt5Agg\n",
      "Populating the interactive namespace from numpy and matplotlib\n"
     ]
    }
   ],
   "source": [
    "%pylab\n",
    "%matplotlib inline\n",
    "\n",
    "img = imread(\"./Data/N2DH-GOWT1/img/t01.tif\")\n",
    "figure(figsize=(15,8))\n",
    "imshow(img, \"gray\")"
   ]
  },
  {
   "cell_type": "code",
   "execution_count": null,
   "metadata": {
    "scrolled": true
   },
   "outputs": [],
   "source": [
    "%pylab\n",
    "%matplotlib inline\n",
    "\n",
    "gt_N2DH-GOWT1 = imread(\"./Data/N2DH-GOWT1/gt/man_seg01.tif\")\n",
    "figure(figsize=(15,8))\n",
    "imshow(gt, \"gray\")"
   ]
  },
  {
   "cell_type": "code",
   "execution_count": 46,
   "metadata": {},
   "outputs": [
    {
     "data": {
      "image/png": "[encoded data removed]",
      "text/plain": [
       "<Figure size 432x288 with 1 Axes>"
      ]
     },
     "metadata": {
      "needs_background": "light"
     },
     "output_type": "display_data"
    }
   ],
   "source": [
    "#using otsu thresholding on a single image\n",
    "otsu_threshold = otsu_faster(img)\n",
    "otsu_threshold  "
   ]
  },
  {
   "cell_type": "code",
   "execution_count": 50,
   "metadata": {},
   "outputs": [
    {
     "data": {
      "text/plain": [
       "0.13328294787114722"
      ]
     },
     "execution_count": 50,
     "metadata": {},
     "output_type": "execute_result"
    }
   ],
   "source": [
    "# dice score\n",
    "dice_score_faster(clipped, gt_N2DH-GOWT1)"
   ]
  },
  {
   "cell_type": "code",
   "execution_count": 51,
   "metadata": {},
   "outputs": [
    {
     "data": {
      "text/plain": [
       "0.07139965198215116"
      ]
     },
     "execution_count": 51,
     "metadata": {},
     "output_type": "execute_result"
    }
   ],
   "source": [
    "# IoU\n",
    "IoU(clipped,gt_N2DH-GOWT1)\n"
   ]
  },
  {
   "cell_type": "code",
   "execution_count": null,
   "metadata": {},
   "outputs": [],
   "source": []
  }
 ],
 "metadata": {
  "kernelspec": {
   "display_name": "Python 3",
   "language": "python",
   "name": "python3"
  },
  "language_info": {
   "codemirror_mode": {
    "name": "ipython",
    "version": 3
   },
   "file_extension": ".py",
   "mimetype": "text/x-python",
   "name": "python",
   "nbconvert_exporter": "python",
   "pygments_lexer": "ipython3",
   "version": "3.8.3"
  }
 },
 "nbformat": 4,
 "nbformat_minor": 5
}
