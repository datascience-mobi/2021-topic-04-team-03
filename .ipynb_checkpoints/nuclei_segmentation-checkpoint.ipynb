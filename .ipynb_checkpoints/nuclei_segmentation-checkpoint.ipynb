{
 "cells": [
  {
   "cell_type": "markdown",
   "metadata": {},
   "source": [
    "<center><h1>Report of Project 3: \"Implementation and evaluation of Otsu Thresholding\"</h1></center>\n",
    "\n",
    "*Elizaveta Chernova, Veronika Schuler, Laura Wächter, Hannah Winter*\n",
    "\n",
    "<h2>Abstract</h2>\n",
    "<br>\n",
    "<div style=\"text-align: justify\">\n",
    "Thresholding is a useful method that is frequently used in the context of\n",
    "image segmentation.\n",
    "In this project, we used Otsu's thresholding algorithm in order to find the optimal threshold value,\n",
    "that optimizes the image segmentation.\n",
    "The algorithm was applied to a number of images from different datasets (N2DH-GOWT1, N2DL-HeLa, NIH3T3).\n",
    "To improve the results, several preprocessing methods (mainly filters) were used.\n",
    "The final segmentations were compared to reference images and evaluated with several methods (Dice Score, MSD, Hausdorff Distance).\n",
    "The different datasets are characterized by different features, like reflections or low contrast.\n",
    "For this reason, it is likely that different preprocessing methods will lead to the optimal result.\n",
    "Our overall analysis confirmed this hypothesis.\n",
    "</div>\n",
    "\n",
    "<h2> Table of Contents </h2>\n",
    "\n",
    "1. Introduction\n",
    "2. Dataset description<br>\n",
    "    2.1 N2DH-GOWT1<br>\n",
    "    2.2 N2DL-HeLa<br>\n",
    "    2.3 NIH3T3<br>\n",
    "3. Methods<br>\n",
    "    3.1 Preprocessing<br>\n",
    "    3.2 Thresholding<br>\n",
    "    3.3 Evaluation<br>\n",
    "    3.4 Cell counting<br>\n",
    "4. Outcomes<br>\n",
    "    4.1 N2DH-GOWT1<br>\n",
    "    4.2 N2DL-HeLa<br>\n",
    "    4.3 NIH3T3<br>\n",
    "    4.4 Cell counting<br>\n",
    "5. Conclusion\n",
    "\n",
    "<h2>1. Introduction </h2> <a class=\"anchor\" id=\"first-bullet\"></a>\n",
    "<br>\n",
    "<div style=\"text-align: justify\">\n",
    "In computer vision, <i>image segmentation</i> is used for a variety of purposes. In general, image segmentation\n",
    "describes the process of dividing a digital image into multiple segments\n",
    "to simplify the image. These simplified images can be used for further analysis. In the field of medicine or biology,\n",
    "image segmentation is often used to locate tumors (Liu et al., 2018) and other pathologies or to measure tissue volume (Lee, Im, Solaiyappan and Cho, 2017).\n",
    "Segmentations of images displaying cell nuclei are often used as an input for\n",
    "algorithms that measure the number or size of the cell nuclei. If time-lapse images are used,\n",
    "it is also possible to track the cell movement.\n",
    "<br>\n",
    "<br>\n",
    "<i>Thresholding</i> is a simple image segmentation method. Based on a single intensity value, the image is divided into two segments:\n",
    " Pixels with higher intensities than the threshold value are distinguished from the pixels with intensities lower than the threshold.\n",
    " In order to find the threshold value that results in the best possible image segmentation we used \"Otsu's Thresholding\" algorithm (Otsu, 1979).\n",
    "<br>\n",
    "<br>\n",
    "In the course of the project, three different datasets have been used,\n",
    " each of which has different challenges to it:\n",
    " Low contrast, noise and reflections make it difficult to distinguish the cells from the background.\n",
    " In order to achieve good results despite these difficulties, different preprocessing methods were applied to the images prior to the image segmentation.\n",
    " Due to the differences between the datasets we hypothesized that different preprocessing methods would result in the optimal segmentation for every dataset.\n",
    "<br>\n",
    "<br>\n",
    "The accuracy of the obtained segmented images was evaluated by using the Dice Score as well as the Median Surface Distance (MSD)\n",
    "and the Hausdorff Distance. These metrics compare the obtained segmentated image to a reference image.\n",
    "Beyond that, a cell counting algorithm was implemented, which is one possible way to use segmented images.\n",
    "\n",
    "\n",
    "\n",
    "<h2>2. Dataset description</h2><a class=\"anchor\" id=\"second-bullet\"></a>\n",
    "\n",
    "<h5>2.1 N2DH-GOWT1 cells</h5>\n",
    "The dataset N2DH-GOWT1 of the cell tracking challenge (Bártová et al., 2011) contains images of GFP-GOWT1 mouse\n",
    "embryonic stem cells that have been derived with time-lapse confocal microscopy with a Leica TCS SP5 microscope.\n",
    "The varying brightness of the cells makes it difficult to distinguish all the cells from the background. \n",
    "Further, low contrast and the noise in the images present challenges to the segmentation algorithm.\n",
    "\n",
    "<h5>2.2 N2HL-HeLa cells</h5>\n",
    "The dataset N2DL-HeLa of the cell tracking challenge (Neumann et al., 2010) contains images of human epithelial cells\n",
    "of cervical cancer. Those images have been derived with an Olympus IX81 microscope used for live imaging of\n",
    "fluorescently labelled chromosomes. The challenge of these images is the variable brightness of the cells.\n",
    "\n",
    "<h5>2.3 NIH3T3 cells</h5>\n",
    "The dataset NIH3T3 (Coelho, Shariff and Murphy, 2009) contains images of several mouse embryonic fibroblast cells. These images\n",
    "have also been derived with fluorescence microscopy images. The difficulty when segmenting these images\n",
    "lies mainly in certain bright spots, probably reflections resulting from the used microscoping approach. Due to these spots, the algorithm might choose a threshold that lies too high resulting in a less successful segmentation.\n",
    "</div>"
   ]
  },
  {
   "cell_type": "code",
   "execution_count": 1,
   "metadata": {},
   "outputs": [],
   "source": [
    "# Import of the Modules\n",
    "from nuclei_segmentation import metrics, complete_analysis, visualisation, evaluation, otsu, preprocessing\n",
    "from skimage import io\n",
    "from matplotlib import pyplot as plt\n",
    "from skimage.filters import threshold_otsu\n",
    "import numpy as np\n",
    "import pathlib as pl\n",
    "import json\n",
    "import pandas as pd\n",
    "import warnings\n",
    "import matplotlib as mpl\n",
    "mpl.rcParams['figure.dpi'] = 120\n",
    "warnings.filterwarnings('ignore')"
   ]
  },
  {
   "cell_type": "markdown",
   "metadata": {
    "pycharm": {
     "name": "#%% md\n"
    }
   },
   "source": [
    "<div style=\"text-align: justify\">\n",
    "    \n",
    "<h2>3. Methods</h2><a class=\"anchor\" id=\"methods\"></a>\n",
    "<br>\n",
    "The following preprocessing methods have been tested with the intention to improve the results of  Otsu's thresholding algorithm. They help to reduce noise and other disruptive factors in the input images.\n",
    "\n",
    "\n",
    "<h3>3.1 Preprocessing</h3><a class=\"anchor\" id=\"preprocessing\"></a>\n",
    "<h4>Gaussian filter</h4>\n",
    "The Gaussian blurs images and therefore reduces noise. In the optimal case, this filter\n",
    "helps to reduce reflections in the images that might disturb the thresholding algorithm. The Gaussian kernel, that\n",
    "is used to compute the weighted average of the pixels, has the shape of the 2D zero-mean Gaussian function $G_\\sigma$\n",
    "with standard deviation $\\sigma$. The higher $\\sigma$ is set, the stronger is the blurring effect in the processed image.\n",
    "\n",
    "\\begin{align*}\n",
    "G_\\sigma(x,y) = \\frac{1}{\\sigma^2 2\\pi}  e^\\frac {-(x^2 + y^2)}{2\\sigma^2} \\\\\n",
    "\\end{align*}\n",
    "\n",
    "<h4>Median filter</h4>\n",
    "The Median filter is a non linear filter, that is often used to reduce noise in images.\n",
    "The gray-values of all pixels in a pixel neighborhood of a defined size are ranked by size. The intensity value of the central pixel is then substituted with the median of its neighbourhood.\n",
    "This filter is particularly useful to reduce salt and pepper noise in images.\n",
    "Compared to the Gaussian filter, a useful feature of the Median filter is that edges are preserved, while the overall noise is reduced.\n",
    "\n",
    "<h4>Histogram stretching</h4>\n",
    "Histogram stretching is a technique that aims to enhance the contrast of an image and might therefore help to optimize\n",
    "the segmentation results. The range of intensity values is 'stretched' to a desired minimal and maximal intensity value.\n",
    "The first step is to take all intensity values in the image and to select the minimal intensity value $c$ and the\n",
    "maximal intensity value $d$ of the input image as the $2nd$ and $98th$ percent quantiles. The lower and upper pixel\n",
    "intensity limits $a$ and $b$ to which the image is stretched are often times the minimum and the maximum pixel values of\n",
    "the respective image type. Hence, for 8 bit gray-level images $a$ is set to $0$ whereas $b$ is set to $255$. These\n",
    "values must be adjusted accordingly for other image types. The pixel intensity of the output image $P_{out}$ is\n",
    "calculated from the pixel intensity $P_{in}$ of the input image based on the following linear function.\n",
    "\n",
    "\\begin{align*}\n",
    "P_{out} = (P_{in} - c) \\frac{(b-a)}{(d-c)} + a\n",
    "\\end{align*}\n",
    "<br>\n",
    "\n",
    "<h3>3.2 Thresholding</h3><a class=\"anchor\" id=\"thresholding\"></a>\n",
    "<h4>Otsu's Thresholding</h4>\n",
    "In order to adequately separate objects from the background, it is important to select an optimal threshold value.\n",
    "In the optimal case, the image histogram shows a bimodal distribution.\n",
    "In this scenario, the threshold could simply be selected at the bottom of the valley between the two intensity peaks representing foreground and background.\n",
    "However, in most cases it is not obvious where the optimal threshold value lies. In this case, Otsu's Thresholding method allows us to compute the best threshold value automatically.\n",
    "The algorithm computes the in-between-class variance $\\sigma_B$ for all possible threshold values. Every threshold value separates all pixels in the image in two classes:\n",
    "Pixels with a lower intensity and pixels with a higher intensity than the threshold value.\n",
    "The between-class variance $\\sigma_B$ is calculated from the probability of class occurrence $\\omega$, the mean intensity values $\\mu$ of both pixel classes as well as the total intensity value variance $\\mu_T$.\n",
    "The intensity level that maximizes the in-between-class variance is selected as the optimal threshold value.\n",
    "\n",
    "\\begin{align*}\n",
    "   \\sigma_B^2 = \\omega_1(\\mu_1 - \\mu_T)^2 + \\omega_2(\\mu_2 - \\mu_T)^2\n",
    "\\end{align*}\n",
    "\n",
    "In order to receive a segmented, binary image, the pixel intensity $g(x,y)$ has to be changed accordingly. Pixels with a\n",
    "lower or equal intensity value than the optimal threshold $k$ are set to $0$. Analogous to this, all pixels with a higher\n",
    "intensity value than the threshold are set to $1$.\n",
    "\n",
    "\\begin{align*}\n",
    "     g_{segmentation} (x,y)=\\left\\{\\begin{array}{ll}0 & if & g(x,y) \\leq k  \\\\\n",
    "     1 & if & g(x,y) > k\\end{array}\\right.\n",
    "\\end{align*}\n",
    "\n",
    "<h4>Two-level Otsu's thresholding</h4>\n",
    "Otsu's Thresholding method can be easily extended to multi-thresholding problems. We chose it with the intention of\n",
    "trying to reduce the bright reflection spots in the NIH3T3 dataset, that might otherwise be recognized as cell nuclei by\n",
    "the algorithm. The main idea is to set two threshold values: The higher threshold value separates the reflections from\n",
    "the remaining image, whereas the lower threshold value separates the cell nuclei from the background. The computation of\n",
    "two threshold values results in three different pixel classes. Analogous to the one-level algorithm, the optimal\n",
    "threshold values are computed by minimizing the in-between-class variance between the classes:\n",
    "\n",
    "\\begin{align*}\n",
    "   \\sigma_B^2 = \\omega_1(\\mu_1 - \\mu_T)^2 + \\omega_2(\\mu_2 - \\mu_T)^2 + \\omega_3(\\mu_3 - \\mu_T)^2\n",
    "\\end{align*}\n",
    "\n",
    "In our case the next step was to set all pixels with a higher intensity than the upper threshold value (ideally the\n",
    "reflections in the image) to $0$. All pixels with a lower or equal intensity than the lower threshold value were also\n",
    "set to $0$. The remaining pixels were set to $1$.\n",
    "\n",
    "<h3>3.3 Evaluation</h3><a class=\"anchor\" id=\"evaluation\"></a>\n",
    "In order to evaluate the result of the image segmentation based on Otsu's Thresholding algorithm, the segmented images\n",
    "were compared with reference images. For every picture in the dataset there is a binary 'Ground truth' image, that\n",
    "displays an accurate segmentation of the respective image. The correspondence of our final segmentation and the 'Ground\n",
    "truth' image can be evaluated by using various metrics.\n",
    "\n",
    "<h4>Dice Score</h4>\n",
    "The Dice score (DSC) is often used in order to assess the performance of image segmentation algorithms. The Dice score\n",
    "is a measure of similarity between the segmented image and the 'Ground truth'. It is based on the number of correctly assigned pixels ($TP$) pixels as compared to the number of pixels wrongly set to itensity $1$ ($FP$) and the pixels that were falsely set to $0$ ($FN$) (Eelbode et al., 2020).\n",
    "\n",
    "\\begin{align*}\n",
    "    DSC = \\frac{2\\cdot TP}{2\\cdot TP + FP + FN} \\\\\n",
    "\\end{align*}\n",
    "\n",
    "The Dice score lies within the interval $[0,1]$. In the event of a complete match between the segmented image and the\n",
    "'Ground truth' image, the obtained Dice score is $1$. In the opposite case, the obtained Dice Score is $0$. In general,\n",
    "higher Dice scores indicate a more precise image segmentation.\n",
    "\n",
    "<h4>Surface Distances</h4>\n",
    "Surface distances are another way to evaluate an image segmentation method by comparing the segmented image with the\n",
    "'Ground truth' image. The distance $D$ between a point $s$ in the set of pixels $S$ (all pixels with intensity $1$ in\n",
    "the segmented image) to the set of pixels $G$ (all pixels with intensity $1$ in the 'Ground truth' image) corresponds\n",
    "to the minimal euclidean distance between $s$ and all pixels $g$ in $G$:\n",
    "\n",
    "\\begin{align*}\n",
    "    D(s, G) = min \\{d(s - g)| g \\in G\\}\n",
    "\\end{align*}\n",
    "\n",
    "This distance is computed for every pixel in both sets $S$ and $G$, whereby the total distances $D(S,G)$ and $D(G,S)$\n",
    "(two distance vectors) between the pixel sets are obtained. The Mean surface distance (MSD), as the name implies,\n",
    "is the average surface distance between the two pixel sets by adding up all distances and dividing by the total number\n",
    "of pixels $n_S$ and $n_G$ in both pixel sets. For smaller MSD values the segmentation is more accurate (Rhee et al., 2020).\n",
    "\n",
    "\\begin{align*}\n",
    "    MSD = \\frac{1}{n_S + n_G}   \\left(\\sum_{p=1}^{n_S} D(s,G) + \\sum_{g=1}^{n_G}  D(g,S)\\right)\n",
    "\\end{align*}\n",
    "\n",
    "By contrast, the Hausdorff distance (HD), named after the German mathematician Felix Hausdorff, is the maximal surface\n",
    "distance between the two pixel sets. For smaller HD values, the segmentation is more accurate.\n",
    "\n",
    "\\begin{align*}\n",
    "    HD = max\\{D(S,G),D(G,S)\\}\n",
    "\\end{align*}\n",
    "\n",
    "In general, the Hausdorff distance is very sensitive to outliers and therefore not recommended if outliers are likely (Taha & Hanbury, 2015).\n",
    "<h3>3.4 Cell counting</h3><a class=\"anchor\" id=\"cell_count\"></a>\n",
    "The basic idea of our cell counting algorithm is to identify all pixels that form the outline of the segmented cells.\n",
    " These ‘border pixels’ are located by identifying intensity changes from zero to one in the segmented image.\n",
    " By grouping adjacent border pixels, all pixels belonging to the same shape are combined into groups.\n",
    " The count of the obtained groups matches the count of cells in the image. The picture below visualizes the located 'outline pixels'.\n",
    "</div>"
   ]
  },
  {
   "cell_type": "code",
   "execution_count": 2,
   "metadata": {
    "pycharm": {
     "name": "#%%\n"
    }
   },
   "outputs": [
    {
     "data": {
      "image/png": "[encoded data removed]",
      "text/plain": [
       "<Figure size 720x480 with 1 Axes>"
      ]
     },
     "metadata": {
      "needs_background": "light"
     },
     "output_type": "display_data"
    }
   ],
   "source": [
    "cell_counting_example = io.imread(str(pl.Path('./Data/NIH3T3/gt/42.png')))\n",
    "border_pixels = metrics.find_border(cell_counting_example)\n",
    "visualisation.border_image(cell_counting_example, border_pixels);"
   ]
  },
  {
   "cell_type": "markdown",
   "metadata": {},
   "source": [
    "<h2>4. Outcomes</h2>\n",
    "<br>\n",
    "<div style=\"text-align: justify\">\n",
    "Five different preprocessing methods were applied to the images: Histogram stretching, the gaussian and median filter individually as well as two combinations: The gaussian filter and the median filter were each combined with histogram stretching. The results are precalculated and saved in .json files but if desired, they can be recalculated in a few hours.\n",
    "</div>"
   ]
  },
  {
   "cell_type": "code",
   "execution_count": 3,
   "metadata": {},
   "outputs": [],
   "source": [
    "# Set to True if one level recalculations are desired (requires a few hours...)\n",
    "data_one_level = complete_analysis.recalculation_desired_one_lvl(recalculate_one_level=False,\n",
    "                                                                 path_to_data=\"Results/values.json\")\n",
    "# Set to True if two level recalculations are desired (requires a few hours...)\n",
    "data_two_level = complete_analysis.recalculation_desired_two_lvl(recalculate_two_level=False,\n",
    "                                                                 path_to_data=\"Results/two_lvl.json\")"
   ]
  },
  {
   "cell_type": "markdown",
   "metadata": {},
   "source": [
    "The optimal preprocessing method for each dataset was determined based on the mean Dice Scores as well as the mean surface distances of every dataset.\n",
    "In the following, the results of each dataset are discussed individually. Thereby, also the distribution of the evaluation measure values is taken into account."
   ]
  },
  {
   "cell_type": "markdown",
   "metadata": {},
   "source": [
    "<h3>4.1 N2DH-GOWT1 Dataset</h3>\n",
    "<h4>4.1.1 N2DH-GOWT1 Results </h4>\n",
    "Based on the mean values of the evaluation measures, the following optimal preprocessing methods were obtained:"
   ]
  },
  {
   "cell_type": "code",
   "execution_count": 4,
   "metadata": {},
   "outputs": [
    {
     "name": "stdout",
     "output_type": "stream",
     "text": [
      "N2DH-GOWT1 (dice) : 0.817   --->   Median filter and histogram stretching\n",
      "N2DH-GOWT1 (msd) : 3.389   --->   Histogram stretching\n",
      "N2DH-GOWT1 (hd) : 221.375   --->   Median filter and histogram stretching\n"
     ]
    }
   ],
   "source": [
    "complete_analysis.result_evaluation(str(pl.Path(\"Results/values.json\")), [\"N2DH-GOWT1\"])"
   ]
  },
  {
   "cell_type": "markdown",
   "metadata": {},
   "source": [
    "The box plot below visualizes the distribution of the Dice scores for every dataset. A general trend is that preprocessing\n",
    "methods including histogram stretching result in a better segmentation result than other preprocessing methods."
   ]
  },
  {
   "cell_type": "code",
   "execution_count": 5,
   "metadata": {
    "pycharm": {
     "name": "#%%\n"
    }
   },
   "outputs": [
    {
     "ename": "AttributeError",
     "evalue": "module 'nuclei_segmentation.complete_analysis' has no attribute 'get_one_lvl_dice_scores'",
     "output_type": "error",
     "traceback": [
      "\u001b[1;31m---------------------------------------------------------------------------\u001b[0m",
      "\u001b[1;31mAttributeError\u001b[0m                            Traceback (most recent call last)",
      "\u001b[1;32m<ipython-input-5-428eaf4de2d9>\u001b[0m in \u001b[0;36m<module>\u001b[1;34m\u001b[0m\n\u001b[1;32m----> 1\u001b[1;33m \u001b[0mvisualisation\u001b[0m\u001b[1;33m.\u001b[0m\u001b[0mcomparison_boxplot\u001b[0m\u001b[1;33m(\u001b[0m\u001b[0mcomplete_analysis\u001b[0m\u001b[1;33m.\u001b[0m\u001b[0mget_one_lvl_dice_scores\u001b[0m\u001b[1;33m(\u001b[0m\u001b[0mdata_one_level\u001b[0m\u001b[1;33m,\u001b[0m \u001b[0mdataset\u001b[0m \u001b[1;33m=\u001b[0m \u001b[1;34m\"N2DH-GOWT1\"\u001b[0m\u001b[1;33m)\u001b[0m\u001b[1;33m)\u001b[0m\u001b[1;33m\u001b[0m\u001b[1;33m\u001b[0m\u001b[0m\n\u001b[0m",
      "\u001b[1;31mAttributeError\u001b[0m: module 'nuclei_segmentation.complete_analysis' has no attribute 'get_one_lvl_dice_scores'"
     ]
    }
   ],
   "source": [
    "visualisation.comparison_boxplot(complete_analysis.get_one_lvl_dice_scores(data_one_level, dataset = \"N2DH-GOWT1\"))"
   ]
  },
  {
   "cell_type": "markdown",
   "metadata": {},
   "source": [
    "The distribution of the mean square distances for all possible preprocessing methods also rate the combinations\n",
    "containing histogram stretching the best. However, the difference is not as obvious as in the Dice score distribution.\n",
    "Further, images without preprocessing are rated very high, in contrast to the evaluation based on the Dice Score."
   ]
  },
  {
   "cell_type": "code",
   "execution_count": null,
   "metadata": {},
   "outputs": [],
   "source": [
    "visualisation.comparison_boxplot(complete_analysis.get_one_lvl_msd(data_one_level, dataset = \"N2DH-GOWT1\"),\n",
    "                                   y_label = 'MSD value')"
   ]
  },
  {
   "cell_type": "markdown",
   "metadata": {
    "pycharm": {
     "name": "#%% md\n"
    }
   },
   "source": [
    "<h4>4.1.2 N2DH-GOWT1 Discussion </h4>\n",
    "All images in the first dataset are very low in contrast. Even with the naked eye, some cells are hard to recognize. As\n",
    "the main effect of filters is to blur images, they are not helpful to improve the segmentation result in this context.\n",
    "The following figure shows that the filters do not have a significant effect on the overall appearance of the images."
   ]
  },
  {
   "cell_type": "code",
   "execution_count": null,
   "metadata": {},
   "outputs": [],
   "source": [
    "image = io.imread(str(pl.Path('Data/N2DH-GOWT1/img/t01.tif')))\n",
    "kernel = preprocessing.gaussian_kernel(21, 5)\n",
    "gaussian_image = preprocessing.convolution(image, kernel)\n",
    "median_image = preprocessing.median_filter(image,15)\n",
    "visualisation.three_img_plot(image,gaussian_image, median_image,\"Original image\",\"Gaussian filter\", \"Median filter\")"
   ]
  },
  {
   "cell_type": "markdown",
   "metadata": {},
   "source": [
    "The reason histogram stretching works so well regarding this dataset is that it increases contrast. This makes it easier\n",
    "to set a threshold that separates the cell nuclei from the background and therefore results in a better segmentation\n",
    "result. Based on the following graphs it is clearly visible that more pixels belonging to cell nuclei are detected by the segmentation algorithm,\n",
    "after applying histogram stretching to the images."
   ]
  },
  {
   "cell_type": "code",
   "execution_count": null,
   "metadata": {},
   "outputs": [],
   "source": [
    "stretched_image = preprocessing.histogram_stretching(image, intensity_lvls = 2**16)\n",
    "segmented_image = otsu.complete_segmentation(image,intensity_lvls = 2**16)\n",
    "segmented_stretched_image = otsu.complete_segmentation(stretched_image,intensity_lvls = 2**16)\n",
    "visualisation.two_img_plot(image,segmented_image,'A. Original image\\n','B. Segmented (unpreprocessed)\\nimage')"
   ]
  },
  {
   "cell_type": "code",
   "execution_count": null,
   "metadata": {},
   "outputs": [],
   "source": [
    "visualisation.two_img_plot(stretched_image,segmented_stretched_image,'C. Histogram stretching\\n',\n",
    "                           'D. Histogram stretching and\\nsegmentation')"
   ]
  },
  {
   "cell_type": "markdown",
   "metadata": {},
   "source": [
    "<div style=\"text-align: justify\">\n",
    "It is striking that MSD and Dice Score evaluate some segmentation results differently. The reason for that is that the MSD, being the mean surface distance between the pixels of the cell nuclei, penalizes false positive pixels in the image background much more than the Dice Score. The Dice Score cannot differentiate between false positive pixels near a cell and those scattered in the background. \n",
    "   <br><br>\n",
    "This explains why the MSD rates the unpreprocessed segmentation results much higher than the Dice Score: as it can be seen in figure B there are very few false positive pixels in the background (there is no background noise). However, some pixels belonging to cell nuclei were not recognized as such. This results in a lower Dices Score.\n",
    "For the same reason, segmented images preprocessed with histogram stretching are rated higher by the Dice Score than the MSD value. In this case the situation is the opposite. As can be seen in figure D, there are a lot of false positives in the background. However, the number of true positive pixels is higher.\n",
    "\n",
    "</div>"
   ]
  },
  {
   "cell_type": "markdown",
   "metadata": {
    "pycharm": {
     "name": "#%% md\n"
    }
   },
   "source": [
    "<h3>4.2 N2DL-HeLa Dataset</h3>"
   ]
  },
  {
   "cell_type": "markdown",
   "metadata": {},
   "source": [
    "<h4>4.2.1 N2DL-HeLa Results </h4>\n",
    "For the second dataset, the combination the Median filter and Histogram stretching resulted in the best segmentation results:"
   ]
  },
  {
   "cell_type": "code",
   "execution_count": null,
   "metadata": {},
   "outputs": [],
   "source": [
    "complete_analysis.result_evaluation(\"Results/values.json\", [\"N2DL-HeLa\"])"
   ]
  },
  {
   "cell_type": "markdown",
   "metadata": {},
   "source": [
    "However, the overall distribution of the Dice scores for the images in the dataset shows that there is not a big\n",
    "difference with regard to the performance of the different preprocessing methods. With the exception of one outlier, the\n",
    "segmented images are very accurate in total."
   ]
  },
  {
   "cell_type": "code",
   "execution_count": null,
   "metadata": {
    "pycharm": {
     "name": "#%%\n"
    }
   },
   "outputs": [],
   "source": [
    "visualisation.comparison_boxplot(complete_analysis.get_one_lvl_dice_scores(data_one_level, dataset = \"N2DL-HeLa\"))"
   ]
  },
  {
   "cell_type": "markdown",
   "metadata": {},
   "source": [
    "The evaluation based on the Hausdorff Distance suggests that the Gaussian filter alone results in the best image segmentation. Generally, there is a high dispersion of the Hausdorff Distance values."
   ]
  },
  {
   "cell_type": "code",
   "execution_count": null,
   "metadata": {},
   "outputs": [],
   "source": [
    "visualisation.comparison_boxplot(complete_analysis.get_one_lvl_hd(data_one_level, dataset = \"N2DL-HeLa\"), y_label=\"Hausdorff\")"
   ]
  },
  {
   "cell_type": "markdown",
   "metadata": {
    "pycharm": {
     "name": "#%% md\n"
    }
   },
   "source": [
    "<div style=\"text-align: justify\">\n",
    "<h4> 4.2.2 N2DL-HeLa Discussion </h4>\n",
    "\n",
    "The major challenge of this dataset is the strongly varying brightness of the cell nuclei in the images. Some cell nuclei are very difficult to distinguish from the background while others are bright, thus are probably reflections. The degree of this characteristic is different for each image. This explains the 'outlier' within the image segmentation results that were evaluated using the Dice Score.\n",
    "\n",
    "<br>\n",
    "In the respective image, the variance in brightness between the cell nuclei is very strong. After applying histogram stretching, a many cell nuclei are lost into the background of the segmented image:\n",
    "   Simply put, histogram stretching increases the brightness of already bright spots in the image and reduces the brightness of darker spots. If there are large differences in the brightness of the different cells, this characteristic is reinforced. This makes it even more difficult to find a suitable threshold value that separates the cell nuclei from the background. Therefore, the application of histogram stretching leads to the loss of many cell nuclei in the segmented image. The overlay of the ground truth and the segmented and stretched image visualises the very high percentage of false negative pixels.\n",
    "    </div>"
   ]
  },
  {
   "cell_type": "code",
   "execution_count": null,
   "metadata": {},
   "outputs": [],
   "source": [
    "image = io.imread(str(pl.Path('Data/N2DL-HeLa/img/t79.tif')))\n",
    "stretched_image = preprocessing.histogram_stretching(image, intensity_lvls = 2**16)\n",
    "segmented_image = otsu.complete_segmentation(stretched_image,intensity_lvls = 2**16)\n",
    "ground_truth = io.imread(str(pl.Path('Data/N2DL-HeLa/gt/man_seg79.tif'))) \n",
    "visualisation.overlay(segmented_image, ground_truth)"
   ]
  },
  {
   "cell_type": "markdown",
   "metadata": {},
   "source": [
    "<div style=\"text-align: justify\">\n",
    "The other images of this dataset resulted in very accurate segmentations as shown by the high Dice Scores. This is due to less variance in the brightness between different cell nuclei. Therefore the cells can be separated from the background more easily. As a consequence, histogram stretching does not lead to a massive loss of pixels as illustrated above. Another reason might be that the number of cells displayed in the other images of the dataset is smaller (below) than in the image shown above. Therefore, the probability for cells being being lost decreases.\n",
    "\n",
    "In this dataset, filters generally seem to lead to good segmentation results. This might be due to the fact that the difference in brightness is reduced because of the blurring effect resulting from the application of a filter.\n",
    "    </div>"
   ]
  },
  {
   "cell_type": "code",
   "execution_count": null,
   "metadata": {},
   "outputs": [],
   "source": [
    "image1 = io.imread(str(pl.Path('Data/N2DL-HeLa/img/t13.tif')))\n",
    "kernel =  preprocessing.gaussian_kernel(21, 5)\n",
    "gaussian_image1 = preprocessing.convolution(image1, kernel)\n",
    "segmented_image = otsu.complete_segmentation(gaussian_image1,intensity_lvls = 2**16)\n",
    "visualisation.three_img_plot(image1, gaussian_image1,segmented_image ,'Original image','Filtered image', 'Segmented image')"
   ]
  },
  {
   "cell_type": "markdown",
   "metadata": {},
   "source": [
    "As already mentioned, the evaluation Hausdorff Distances of the segmented images vary strongly. Therefore this metric seems not to be a good measure to evaluate the quality of the image segmentation: The Hausdorff Distance is the maximal surface distance between the segmented image and the 'Ground truth'. This means that single outliers can dramatically increase the Hausdorff distance, even if the general segmentation is very accurate.\n",
    "<br>\n",
    "To conclude, the use of this metric only makes sense if outliers are very unlikely.The segmentation algorithm used here produces results that are too imprecise to be meaningfully evaluable with the Hausdorff metric."
   ]
  },
  {
   "cell_type": "markdown",
   "metadata": {},
   "source": [
    "<h3> 4.3. NIH3T3 Dataset  </h3>\n",
    "\n",
    "<h4> 4.3.1 NIH3T3 Results </h4>\n",
    "<br>\n",
    "Since the major challenge of the NIH3T3 dataset are reflections, we applied both one- and two-level Otsu thresholding on them. Moreover, we tested the different preprocessing methods.\n",
    "The best results for one-level Otsu's thresholding were as follows:"
   ]
  },
  {
   "cell_type": "code",
   "execution_count": null,
   "metadata": {},
   "outputs": [],
   "source": [
    "complete_analysis.result_evaluation(str(pl.Path(\"Results/values.json\")), [\"NIH3T3\"])"
   ]
  },
  {
   "cell_type": "code",
   "execution_count": null,
   "metadata": {
    "pycharm": {
     "name": "#%%\n"
    }
   },
   "outputs": [],
   "source": [
    "visualisation.comparison_swarmplot(complete_analysis.get_one_lvl_dice_scores(data_one_level, dataset = \"NIH3T3\"))"
   ]
  },
  {
   "cell_type": "markdown",
   "metadata": {},
   "source": [
    "The preprocessing strategy that resulted in the highest mean Dice Score (0.533) is histogram stretching.\n",
    "\n",
    "Dice Scores with use of the two-level Otsu's Thresholding had a relatively big variance. The best Dice Score (0.577) resulted by images that were preprocessed using median filter as shown in the following figure."
   ]
  },
  {
   "cell_type": "code",
   "execution_count": null,
   "metadata": {
    "pycharm": {
     "name": "#%%\n"
    }
   },
   "outputs": [],
   "source": [
    "scores = complete_analysis.get_all_two_level_results(str(pl.Path(\"Results/two_lvl.json\")), \"NIH3T3\")\n",
    "visualisation.comparison_swarmplot(scores,\n",
    "                                 x_label=[\"No preprocessing\", \"Histogram stretching\",\"Median filter\",\n",
    "                                          \"Median filter and\\nhistogram stretching\", \"Gaussian filter\"])"
   ]
  },
  {
   "cell_type": "markdown",
   "metadata": {},
   "source": [
    "In both cases of one- and two-level Otsu's thresholding the mean and the median values were significantly different, which means that the distribution of the Dice Score values is not symmetrical."
   ]
  },
  {
   "cell_type": "markdown",
   "metadata": {},
   "source": [
    "<h4> 4.3.2 NIH3T3: Discussion </h4>\n",
    "<br>\n",
    "As mentioned in the results, the distribution of Dice Score values after one-level Otsu segmentation is bimodal. The reason for that is that not all images in the dataset have reflections. Those without reflections are successfully segmented when using one-level Otsu's Thresholding. The two-level Otsu on those images is not needed and sometimes contra-productive, which results in the high variance of the results.\n",
    "\n",
    "An example of an image with really bright reflections and the respective ground truth image are shown below:"
   ]
  },
  {
   "cell_type": "code",
   "execution_count": null,
   "metadata": {},
   "outputs": [],
   "source": [
    "reflections_image =io.imread(str(pl.Path('Data/NIH3T3/img/dna-47.png')))\n",
    "ground_truth = io.imread(str(pl.Path('Data/NIH3T3/gt/47.png')))\n",
    "visualisation.two_img_plot(reflections_image, ground_truth, \"Original image\", \"Ground truth\")"
   ]
  },
  {
   "cell_type": "markdown",
   "metadata": {},
   "source": [
    "The following image shows the segmentation result of an image with a few really bright reflections. As the intensity values in the reflection regions are much higher than the average image intensity, the one-level Otsu algorithm sets the threshold value too high. Therefore most of the cell nuclei are not detected in the segmentation."
   ]
  },
  {
   "cell_type": "code",
   "execution_count": null,
   "metadata": {
    "pycharm": {
     "name": "#%%\n"
    }
   },
   "outputs": [],
   "source": [
    "segmentation_one_level = otsu.complete_segmentation(reflections_image)\n",
    "visualisation.overlay(segmentation_one_level,ground_truth)"
   ]
  },
  {
   "cell_type": "markdown",
   "metadata": {},
   "source": [
    "The same image segmented with the two-level Otsu algorithm showed to be much more successful than the one-level approach, as depicted in the image below. The values above the higher threshold were assigned to the background and the values between the two thresholds were assigned to the cell nuclei."
   ]
  },
  {
   "cell_type": "code",
   "execution_count": null,
   "metadata": {
    "pycharm": {
     "name": "#%%\n"
    }
   },
   "outputs": [],
   "source": [
    "segmentation_two_level = otsu.complete_segmentation_twolevel(io.imread(str(pl.Path('Data/NIH3T3/img/dna-47.png'))))\n",
    "visualisation.overlay(segmentation_two_level,ground_truth)"
   ]
  },
  {
   "cell_type": "markdown",
   "metadata": {},
   "source": [
    "<h3>4.4 Cell nuclei counting</h3>\n",
    "\n",
    "<h4>4.4.1 Results</h4>\n",
    "\n",
    "The cell nuclei counting algorithm was tested on the ground truth images from N2DH-GOWT1 and N2DL-HeLa datasets. The single cell nuclei in the 'Ground truth' images in these datasets have different intensities. Therefore it is possible to extract the number of cell nuclei from the 'Ground truth' images.\n",
    "\n",
    "The results are presented in the following tables."
   ]
  },
  {
   "cell_type": "code",
   "execution_count": null,
   "metadata": {},
   "outputs": [],
   "source": [
    "with open(str(pl.Path('Results/cell_counting_results.json')), \"r\") as file:\n",
    "    cell_counting_results = json.load(file)\n",
    "    \n",
    "table_GOWT1 = pd.DataFrame.from_dict(cell_counting_results[\"N2DH-GOWT1\"])\n",
    "table_GOWT1 = table_GOWT1.set_axis([\"man_seg01.tif\", \"man_seg21.tif\", \"man_seg31.tif\", \n",
    "                                    \"man_seg39.tif\", \"man_seg52.tif\", \"man_seg72.tif\"], axis = 0)\n",
    "table_GOWT1.style.set_caption('Table 1: Results of the cell counting on the N2DH-GOWT1 dataset.')"
   ]
  },
  {
   "cell_type": "code",
   "execution_count": null,
   "metadata": {},
   "outputs": [],
   "source": [
    "table_HeLa = pd.DataFrame.from_dict(cell_counting_results[\"N2DL-HeLa\"])\n",
    "table_HeLa = table_HeLa.set_axis([\"man_seg13.tif\", \"man_seg52.tif\", \"man_seg75.tif\", \"man_seg79.tif\"], axis = 0)\n",
    "table_HeLa.style.set_caption('Table 2: Results of the cell counting on the N2DL-HeLa dataset.')"
   ]
  },
  {
   "cell_type": "code",
   "execution_count": null,
   "metadata": {},
   "outputs": [],
   "source": [
    "mean_error = np.abs(np.mean(cell_counting_results[\"N2DL-HeLa\"][\"Relative difference\"] \n",
    "                            + cell_counting_results[\"N2DH-GOWT1\"][\"Relative difference\"]))\n",
    "standard_deviation =np.abs(np.std(cell_counting_results[\"N2DL-HeLa\"][\"Relative difference\"] \n",
    "                                  + cell_counting_results[\"N2DH-GOWT1\"][\"Relative difference\"]))\n",
    "print(\"Relative error (datasets combined): {} +/- {}\".format(mean_error, standard_deviation))"
   ]
  },
  {
   "cell_type": "markdown",
   "metadata": {},
   "source": [
    "<h4>4.4.2 Discussion</h4>\n",
    "\n",
    "Our algorithm could correctly calculate the cell nuclei number in 2 of 10 images. The relative error did not exceed 10% and 5% when applied to the N2DH-GOWT1 and on the N2DL-HeLa datasets respectively. By analyzing the images we determined the possible causes of the errors. Characteristic examples are shown below."
   ]
  },
  {
   "cell_type": "code",
   "execution_count": null,
   "metadata": {
    "scrolled": true
   },
   "outputs": [],
   "source": [
    "img_GOWT1 = io.imread(str(pl.Path('Data/N2DH-GOWT1/gt/man_seg21.tif')))\n",
    "img_HeLa = io.imread(str(pl.Path('Data/N2DL-HeLa/gt/man_seg75.tif')))\n",
    "\n",
    "visualisation.two_img_plot(img_GOWT1[660:800, 800:940], img_HeLa[610:660, 1020:1070], \n",
    "                           \"A. Section of man_seg21.tif\\n   (N2DH-GOWT1)\", \n",
    "                           \"B. Section of man_seg75.tif\\n   (N2DH-HeLa)\")"
   ]
  },
  {
   "cell_type": "markdown",
   "metadata": {},
   "source": [
    "As shown in figure A some images contain merging cell nuclei. IN this case, the two cell nuclei have a common border. That is why the algorithm detects only one cell.\n",
    "\n",
    "In other cases there are small black regions inside the cell nuclei, as shown in figure B. In this case the algorithm would detect not only the border around the cell, but also the border around the black pixel inside the cell. Since these two borders do not touch, they would be assigned to two different pixel groups and therefore counted as two cell nuclei.\n",
    "\n",
    "Summarizing, it can be said that our algorithm works quite good and is able to detect the number of cell nuclei correctly except for few predictable exceptions."
   ]
  },
  {
   "cell_type": "markdown",
   "metadata": {
    "pycharm": {
     "name": "#%% md\n"
    }
   },
   "source": [
    "<h2>5. Conclusion</h2>\n",
    "\n",
    "Our hypothesis, that the segmentation would be more accurate for the different datasets with specific preprocessing methods, was confirmed. For images in the N2DH-GOWT1, that are mainly low in contrast, histogram stretching improved the segmentation results. On the other hand, the filters had no major impact.\n",
    "On the images in the N2DL-HeLa dataset the histogram stretching resulted in bad results in the individual cases. The reason for that is that histogram stretching enhanced the highly varying brightness of the cell nuclei. In contrast, filters reduced the effect.\n",
    "Applying Otsu’s thresholding on the images from the NIH3T3 dataset resulted in a bimodal distribution of the Dice Scores. The poorly segmented images were the ones with bright spots (reflections). Two-level Otsu’s thresholding improved the segmentation results.\n",
    "<br>\n",
    "<br>\n",
    "The evaluation with Hausdorff Distance varies very strongly referring to all the datasets. For our purpose, this metric is not useful to evaluate the quality of the image segmentation. The reason is that single outliers in the segmented image increase the Hausdorff Distance dramatically. Therefore, even if the general segmentation is very accurate, the Hausdorff Distance can rate it poorly. Hence, further improvement of our algorithm and better segmentation results would be necessary in order to use the Hausdorff distance in a reasonable way.\n",
    "The meaningfulness of the MSD and Dice Score relies on the main goal of the segmentation. MSD penalized noise and false positives that are not close to cell nuclei more gravely than the Dice Score. If the goal is to reduce the number of false negative pixels scattered in the image background, even if this means that the number of false negative pixels increases, the MSD value is more fitting to evaluate the segmented images.\n",
    "In contrast the Dice Score does not take in the position of the false positives/negatives into account. Therefore, if the goal is to recognize as much cell nuclei pixels (true positives) as possible, even though there are false positive pixels scattered in the background, the Dice Score is more meaningful.\n",
    "<br>\n",
    "<br>\n",
    "Except for minor deviations, the cell nuclei counting algorithm was generally accurate. Improvement of the algorithm could include overcoming limitations such as single dark pixels within the cell nucleus and merging cell nuclei.\n",
    "\n"
   ]
  },
  {
   "cell_type": "markdown",
   "metadata": {},
   "source": [
    "<h2>Literature</h2>\n",
    "Bártová, E., Šustáčková, G., Stixová, L., Kozubek, S., Legartová, S., & Foltánková, V. (2011). Recruitment of Oct4 Protein to UV-Damaged Chromatin in Embryonic Stem Cells. Plos ONE, 6(12), e27281. doi: 10.1371/journal.pone.0027281\n",
    "\n",
    "Eelbode, T., Bertels, J., Berman, M., Vandermeulen, D., Maes, F., Bisschops, R., & Blaschko, M. (2020). Optimization for Medical Image Segmentation: Theory and Practice When Evaluating With Dice Score or Jaccard Index. IEEE Transactions On Medical Imaging, 39(11), 3679-3690. doi: 10.1109/tmi.2020.3002417\n",
    "\n",
    "Neumann, B., Walter, T., Hériché, J., Bulkescher, J., Erfle, H., & Conrad, C. et al. (2010). Phenotypic profiling of the human genome by time-lapse microscopy reveals cell division genes. Nature, 464(7289), 721-727. doi: 10.1038/nature08869\n",
    "\n",
    "Coelho, L., Shariff, A., & Murphy, R. (2009). Nuclear segmentation in microscope cell images: A hand-segmented dataset and comparison of algorithms. 2009 IEEE International Symposium On Biomedical Imaging: From Nano To Macro. doi: 10.1109/isbi.2009.5193098\n",
    "\n",
    "Otsu, N. (1979). A Threshold Selection Method from Gray-Level Histograms. IEEE Transactions On Systems, Man, And Cybernetics, 9(1), 62-66. doi: 10.1109/tsmc.1979.4310076\n",
    "\n",
    "Lee, I., Im, H., Solaiyappan, M., & Cho, S. (2017). Comparison of novel multi-level Otsu (MO-PET) and conventional PET segmentation methods for measuring FDG metabolic tumor volume in patients with soft tissue sarcoma. EJNMMI Physics, 4(1). doi: 10.1186/s40658-017-0189-0\n",
    "\n",
    "Liu, L., Li, K., Qin, W., Wen, T., Li, L., Wu, J., & Gu, J. (2018). Automated breast tumor detection and segmentation with a novel computational framework of whole ultrasound images. Medical & Biological Engineering & Computing, 56(2), 183-199. doi: 10.1007/s11517-017-1770-3\n",
    "\n",
    "Rhee, D., Jhingran, A., Rigaud, B., Netherton, T., Cardenas, C., & Zhang, L. et al. (2020). Automatic contouring system for cervical cancer using convolutional neural networks. Medical Physics, 47(11), 5648-5658. doi: 10.1002/mp.14467\n",
    "\n",
    "Taha, A., & Hanbury, A. (2015). Metrics for evaluating 3D medical image segmentation: analysis, selection, and tool. BMC Medical Imaging, 15(1). doi: 10.1186/s12880-015-0068-x"
   ]
  }
 ],
 "metadata": {
  "kernelspec": {
   "display_name": "Python 3",
   "language": "python",
   "name": "python3"
  },
  "language_info": {
   "codemirror_mode": {
    "name": "ipython",
    "version": 3
   },
   "file_extension": ".py",
   "mimetype": "text/x-python",
   "name": "python",
   "nbconvert_exporter": "python",
   "pygments_lexer": "ipython3",
   "version": "3.8.5"
  }
 },
 "nbformat": 4,
 "nbformat_minor": 5
}
