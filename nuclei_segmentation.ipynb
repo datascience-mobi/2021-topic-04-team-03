{
 "cells": [
  {
   "cell_type": "markdown",
   "id": "a9513b08",
   "metadata": {},
   "source": [
    "<center><h1>Report of Project 3: \"Implementation and evaluation of Otsu Thresholding\"</h1></center>\n",
    "\n",
    "*Elizaveta Chernova, Veronika Schuler, Laura Wächter, Hannah Winter*\n",
    "\n",
    "<h3>Abstract</h3>\n",
    "<div style=\"text-align: justify\">\n",
    "Thresholding is a useful method that is frequently used in the context of\n",
    "image segmentation.\n",
    "In this project, we used Otsu's thresholding algorithm in order to find the optimal threshold value,\n",
    "that optimizes the image segmentation.\n",
    "This algorithm will be applied to a number of pictures from different datasets.\n",
    "To improve the results, several preprocessing methods (mainly filters) are used.\n",
    "The final segmentation is compared to the ground truth and evaluated with several methods.\n",
    "The datasets are characterized by different features, like reflections or low contrast.\n",
    "For this reason, it is likely that different preprocessing methods will lead to the optimal result.\n",
    "Our overall analysis confirms this hypothesis.\n",
    "</div>\n",
    "\n",
    "<h3>Table of contents</h3>\n",
    "\n",
    "...\n",
    "\n",
    "<h3>Introduction</h3>\n",
    "<div style=\"text-align: justify\">\n",
    "In computer vision, image segmentation is used for a variety of purposes. In general, image segmentation describes the process of dividing a digital image into multiple segments\n",
    " to simplify the image. These simplified images can be used for further analyses. In the field of medicine or biology,\n",
    "image segmentation is often used to locate tumors and other pathologies or to measure tissue volume.\n",
    "Segmentations of images displaying cell nuclei are often used as an input for\n",
    "algorithms that measure the number or size of the cell nuclei. If time-laps images are used,\n",
    "it is also possible to track the cell movement.\n",
    "<br>\n",
    "Thresholding is a simple method of image segmentation. Based on a single intensity value, the image is divided into two segments:\n",
    " Pixels with with higher intensities and pixels with lower intensities than the threhold value are distinguished.\n",
    " In order to find the threshold value, that results in the best possible image segmentation we use 'Otsu's Thredholding' algorithm.\n",
    "<br>\n",
    "In the course of the project, we will work with three different data sets,\n",
    " each of which will present us with different challenges:\n",
    " Low contrast, noise and reflections make it difficult to distinguish the cells and the background.\n",
    " In order to achieve good results despite these difficulties, different preprocessing methods are applied to the images prior to the image segmentation.\n",
    " Due to the differences between the datasets we hypothesize that different preprocessing methods will result in the optimal segmentation for every dataset.\n",
    "<br>\n",
    "The accuracy of the obtained segmented image is evaluated by using the dice score as well as the median surface distance\n",
    "and the Hausdorff distance. These metrics compare the obtained segmentation to the hand-segmented ground truth image.\n",
    "Beyond that, we implemented a cell counting algorithm to give a meaning to the segmented images.\n",
    "</div>\n",
    "\n",
    "\n",
    "<h3>Description of the datasets</h3>\n",
    "\n",
    "*N2DH-GOWT1 cells*\n",
    "\n",
    "The dataset N2DH-GOWT1 of the cell tracking challenge (Bártová et al., 2011) contains images of GFP-GOWT1 mouse\n",
    "embryonic stem cells that have been derived with time-lapse confocal microscopy with a Leica TCS SP5 microscope.\n",
    "The varying brightness of the cells makes it hard to distinguish all the cells from the background.\n",
    "\n",
    "*N2HL-HeLa cells*\n",
    "\n",
    "The dataset N2DL-HeLa of the cell tracking challenge (Neumann et al., 2010) contains images of human epithelial cells\n",
    "of cervical cancer. Those images have been derived with an Olympus IX81 microscope used for live imaging of\n",
    "fluorescently labelled chromosomes. The challenge in these images is the variety of brightness of the cells.\n",
    "\n",
    "*NIH3T3 cells*\n",
    "\n",
    "The dataset NIH3T3 (Coelho et al., 2009) contains images of several mouse embryonic fibroblast cells. These images\n",
    "have also been derived with fluorescence microscopy images and the difficulty in segmenting these images mainly\n",
    "lies in the bright light spots, probably from the used microscope, that makes it difficult for the algorithm to choose\n",
    "a threshold between the brightness of the cells and the background and not between the brightness of light spots\n",
    "and the cells.\n",
    "\n",
    "\n"
   ]
  },
  {
   "cell_type": "code",
   "execution_count": 1,
   "id": "05109703",
   "metadata": {},
   "outputs": [],
   "source": [
    "# Import of the Modules\n",
    "import numpy as np\n",
    "from skimage.io import imread\n",
    "from skimage.io import imshow\n",
    "from matplotlib import pyplot as plt\n",
    "from skimage.filters import threshold_otsu\n",
    "from nuclei_segmentation import pathlist\n",
    "from nuclei_segmentation import otsu\n",
    "from nuclei_segmentation import evaluation\n",
    "from nuclei_segmentation import visualisation\n",
    "from nuclei_segmentation import metrics\n",
    "import pathlib as pl\n",
    "import json\n",
    "import pandas as pd"
   ]
  },
  {
   "cell_type": "markdown",
   "id": "7896d396",
   "metadata": {
    "pycharm": {
     "name": "#%% md\n"
    }
   },
   "source": [
    "**Loading images, Preprocessing, Otsu, Evaluation of usage on datasets, Discussion**\n",
    "\n",
    "In order to receive the best possible segmentation, different preprocessing methods are applied to the images from the different datasets.\n",
    "The following approaches were made: Initially, we implemented the Gauss and Median filter, as well as histogram stretching individually.\n",
    "After that, we applied a combination of histogram stretching and one of the filters.\n",
    "\n",
    "**Preprocessing**\n",
    "\n",
    "*Gauss filter*\n",
    "<br>\n",
    "The Gaussian filter is a filter mask that multiplies the values of the neighboring pixels with values according to the\n",
    "gaussian distribution with standard deviation $\\sigma$. This function is used in order to\n",
    "reduce the noise in the images.\n",
    "\n",
    "\\begin{align*}\n",
    "G_σ(x,y) = \\frac{1}{σ^2 2π}  e^\\frac {-(x^2 + y^2)}{2σ^2} \\\\\n",
    "\\end{align*}\n",
    "\n",
    "\n",
    "*Median filter*\n",
    "<br>\n",
    "The median filter is a useful tool to tackle salt-and-pepper noise in the images. It takes the median intensity of the\n",
    "central pixel and the surrounding pixels in the neigborhood by weighting each pixel the same.\n",
    "\n",
    "*Histogram stretching*\n",
    "<br>\n",
    "To solve the problem of low contrast images, we decided to use histogram stretching.\n",
    "To do that, the minimum and the maximum intensity values of the original image are taken and remapped to 0 or 1\n",
    "respectively. All the values in-between are recalculated based on a linear function.\n",
    "\n",
    "\\begin{align*}\n",
    "P_{out} = (P_{in} - c) \\frac{(b-a)}{(d-c)} + a\n",
    "\\end{align*}\n",
    "\n",
    "<br>\n",
    "\n",
    "<center>\n",
    "a = Minimal intensity of the input image\n",
    "<br>\n",
    "b = Maximal intensity of the input image\n",
    "<br>\n",
    "c = Minimal intensity in the output image\n",
    "<br>\n",
    "d = Maximal intensity in the otput image\n",
    "\n",
    "</center>\n",
    "\n",
    "<br>\n",
    "\n",
    "\n",
    "**Otsu's Thresholding**\n",
    "\n",
    "The next step after preprocessing our pictures is to implement our image segmentation algortihm with help of Otsu's\n",
    "thresholding.\n",
    "The Otsu algorithm is utilized to select the perfect threshold if the distribution is not bimodal by testing all possible\n",
    "threshold values k.\n",
    "The algorithm returns a single intensity threshold that separates all pixels into two classes – foreground and\n",
    "background. For the algorithm, only the gray value histogram of the image is needed.\n",
    "\n",
    "By using the mean intensity value (µ) as well as the probability of class occurrence of each class, the algorithm\n",
    "computes the in-between-class-variance for all of the possible threshold values k by searching for the value k\n",
    "that maximizes the between-class-variance. This value will be our optimal threshold.\n",
    "\n",
    "\n",
    "Between-class-variance:\n",
    "\n",
    "\\begin{align*}\n",
    "    σ_B = ω_0ω_1(µ_1 - µ_0)^2\n",
    "\\end{align*}\n",
    "\n",
    "\\begin{align*}\n",
    "σ = standard deviation\n",
    "\\end{align*}\n",
    "\n",
    "\\begin{align*}\n",
    "    ω_{0,1} = probability \\enspace of \\enspace class \\enspace occurrence\n",
    "\\end{align*}\n",
    "\n",
    "\n",
    "\\begin{align*}\n",
    "    µ_{0,1} = mean \\enspace intensity \\enspace values\n",
    "\\end{align*}\n",
    "\n",
    "Finally, we assign the intensity value 0 to all pixels having a lower or equal value than the computed optimal threshold\n",
    "value. Likewise, we assign the intensity value 255 to all pixels having a higher intensity value than the computed\n",
    "threshold.\n",
    "\n",
    "\\begin{align*}\n",
    "     g_{clip} (x,y)=\\left\\{\\begin{array}{ll}0 & if & g(x,y) <= k  \\\\\n",
    "     255 & if & g(x,y) > k\\end{array}\\right. .\n",
    "\\end{align*}\n",
    "\n",
    "Now we have received our binary image.\n",
    "\n",
    "*Two-level Otsu*\n",
    "\n",
    "Two-level Otsu basically works like the normal Otsu's algorithm, but instead of computing only one threshold,\n",
    "it gives out two thresholds that separate the pixels into two classes. This method is very useful to separate light\n",
    "reflections from the cells and don't count them as foreground.\n",
    "\n",
    "\n",
    "\\begin{align*}\n",
    "σ_B^2 = ω_1(µ_1 - µ_T)^2 + ω_2(µ_1 - µ_T)^2\n",
    "\\end{align*}\n",
    "\n",
    "\\begin{align*}\n",
    "σ = standard deviation\n",
    "\\end{align*}\n",
    "\n",
    "\\begin{align*}\n",
    "    ω_{1,2} = probability \\enspace of \\enspace class \\enspace occurrence\n",
    "\\end{align*}\n",
    "\n",
    "\n",
    "\\begin{align*}\n",
    "    µ_{1,2} = mean \\enspace intensity \\enspace values\n",
    "\\end{align*}\n",
    "\n",
    "\n",
    "\n",
    "**Evaluation methods**\n",
    "\n",
    "*Dice Score (DSC)*\n",
    "\n",
    "In this method we have a look at the overlapping area of the prediction and of the ground truth, compared to the total\n",
    "area of the prediction and the total are of the ground truth.\n",
    "Put in a formula:\n",
    "\n",
    "\n",
    "\\begin{align*}\n",
    "    DSC = \\frac{2*|A ∩ B|}{|A| + |B|} \\\\\n",
    "\\end{align*}\n",
    "\n",
    "\\begin{align*}\n",
    "A = GT\n",
    "\\end{align*}\n",
    "\n",
    "\\begin{align*}\n",
    "B = segmented \\enspace image\n",
    "\\end{align*}\n",
    "\n",
    "The value of the dice score measures how successful our cell nuclei segmentation was.The best score you can obtain is\n",
    "1 and the worst is 0.\n",
    "\n",
    "*Mean Surface Distance (MSD)*\n",
    "\n",
    "This method also evaluates how well our image segmentation, with the help of Otsu's thresholding, was performed on the\n",
    "given images.\n",
    "Thereby it measures the distance of the border of the segmented cell nuclei to the border of the ground truth nuclei.\n",
    "It computes the mean distance of all the calculated values.\n",
    "The formula used is depicted here:\n",
    "\n",
    "\\begin{align*}\n",
    "    d(p, S') = min ||p - p'||_2; \\enspace p' ∈ S'\n",
    "\\end{align*}\n",
    "\n",
    "\\begin{align*}\n",
    "    MSD = \\frac{1}{n_s + n_s'}  \\\\ (\\sum_{p=1}^{n_s} d(p,S') + \\sum_{p'=1}^{n_s'}  d(p',S))\n",
    "\\end{align*}\n",
    "\n",
    "\\begin{align*}\n",
    "    d = \\enspace distance\n",
    "\\end{align*}\n",
    "\n",
    "\\begin{align*}\n",
    "     S \\enspace and \\enspace S′= outer \\enspace surfaces\n",
    "\\end{align*}\n",
    "\n",
    "\\begin{align*}\n",
    "p = point \\enspace on \\enspace surface \\enspace S \\enspace and \\enspace the \\enspace surface \\enspace S′\n",
    "\\end{align*}\n",
    "\n",
    "\n",
    "*Hausdorff method*\n",
    "\n",
    "The Hausdorff method is very similar to MSD, the only difference is that it computes the maximum distance of all values.\n",
    "Thus, the formula must be:\n",
    "\n",
    "\\begin{align*}\n",
    "    HD = max[d(S,S'), \\enspace d(S',S)]\n",
    "\\end{align*}\n",
    "\n",
    "\\begin{align*}\n",
    "    d = \\enspace distance\n",
    "\\end{align*}\n",
    "\n",
    "\\begin{align*}\n",
    "     S \\enspace and \\enspace S′= outer \\enspace surfaces\n",
    "\\end{align*}\n",
    "\n",
    "**Cell counting**\n",
    "<br>\n",
    "The basic idea of the cell counting algorithm is to identify all pixels that form the outline of the segmented cells.\n",
    " These ‘border pixels’ are located by identifying intensity changes from zero to one in the segmented image.\n",
    " By grouping adjacent border pixels, all pixels belonging to the same shape are combined into groups.\n",
    " The count of the obtained groups matches the count of cells in the image.\n"
   ]
  },
  {
   "cell_type": "code",
   "execution_count": 4,
   "id": "ebc238ae",
   "metadata": {
    "pycharm": {
     "name": "#%%\n"
    }
   },
   "outputs": [
    {
     "data": {
      "image/png": "[encoded data removed]",
      "text/plain": [
       "<Figure size 432x288 with 1 Axes>"
      ]
     },
     "metadata": {
      "needs_background": "light"
     },
     "output_type": "display_data"
    }
   ],
   "source": [
    "cell_counting_example = imread(str(pl.Path('./Data/NIH3T3/gt/42.png')))\n",
    "border_pixels = metrics.find_border(cell_counting_example)\n",
    "visualisation.border_image(cell_counting_example, border_pixels);"
   ]
  },
  {
   "cell_type": "code",
   "execution_count": 6,
   "id": "b5e43bd5",
   "metadata": {
    "pycharm": {
     "name": "#%%\n"
    }
   },
   "outputs": [],
   "source": [
    "with open(\"Results/new_values.json\", \"r\") as read_file:\n",
    "    data = json.load(read_file)"
   ]
  },
  {
   "cell_type": "markdown",
   "id": "2b43c5d2",
   "metadata": {},
   "source": [
    "**Dataset 1**"
   ]
  },
  {
   "cell_type": "code",
   "execution_count": null,
   "id": "4603f0ff",
   "metadata": {
    "pycharm": {
     "name": "#%%\n"
    }
   },
   "outputs": [],
   "source": [
    "dice_scores_GOWT1 = []\n",
    "msd_scores_GOWT1 = []\n",
    "\n",
    "for method in [\"No preprocessing\", \"Median filter\", \"Gaussian filter\", \"Histogram stretching\",\n",
    "               \"Median filter and histogram stretching\", \"Gauss filter and histogram stretching\"]:\n",
    "    dice_scores_GOWT1.append(data[method][\"N2DH-GOWT1\"][\"Dice Score\"])\n",
    "    msd_scores_GOWT1.append(data[method][\"N2DH-GOWT1\"][\"MSD\"])\n",
    "\n",
    "dice_scores = np.array(dice_scores_GOWT1)\n",
    "visualisation.comparison_preprocessing(dice_scores)\n",
    "\n",
    "msd_scores = np.array(msd_scores_GOWT1)\n",
    "visualisation.comparison_preprocessing(msd_scores, y_label='MSD Value')"
   ]
  },
  {
   "cell_type": "markdown",
   "id": "2e4ffc9d",
   "metadata": {
    "pycharm": {
     "name": "#%% md\n"
    }
   },
   "source": [
    "Results:\n",
    "\n",
    "After applying all sorts of pre-processing methods, the highest dice score, with 81.7 %, was obtained when\n",
    "using the median filter and histogram stretching. Also here all sorts of pre-processing methods were used. Finally, the best median surface distance value was obtained\n",
    "when using only histogram stretching. The derived value is 2.282.\n",
    "\n",
    "Discussion:\n",
    "\n",
    "The images in this dataset were very low in contrast which made it hard to distinguish the all cell nuclei from\n",
    "the background.\n",
    "To solve this particular problem we decided to use histogram stretching. In order to do that, the minimum and\n",
    "the maximum intensity values of the original image are taken and remapped to 0 or 1. All the values in between are\n",
    "recalculated based on a linear function. After that, the median filter was implemented. The median takes the median\n",
    "intensity of the central pixel and the surrounding pixels in the neighborhood by weighing each pixel the same.\n",
    "As described above, histogram stretching increases the contrast of the cell nuclei images.\n"
   ]
  },
  {
   "cell_type": "markdown",
   "id": "c093d018",
   "metadata": {
    "pycharm": {
     "name": "#%% md\n"
    }
   },
   "source": [
    "**Dataset 2**"
   ]
  },
  {
   "cell_type": "code",
   "execution_count": null,
   "id": "15ce3c7d",
   "metadata": {
    "pycharm": {
     "name": "#%%\n"
    }
   },
   "outputs": [],
   "source": [
    "dice_scores_HeLa = []\n",
    "msd_scores_HeLa = []\n",
    "\n",
    "for method in [\"No preprocessing\", \"Median filter\", \"Gaussian filter\", \"Histogram stretching\",\n",
    "               \"Median filter and histogram stretching\", \"Gauss filter and histogram stretching\"]:\n",
    "    dice_scores_HeLa.append(data[method][\"N2DL-HeLa\"][\"Dice Score\"])\n",
    "    msd_scores_HeLa.append(data[method][\"N2DL-HeLa\"][\"MSD\"])\n",
    "\n",
    "dice_scores = np.array(dice_scores_HeLa)\n",
    "visualisation.comparison_preprocessing(dice_scores)\n",
    "\n",
    "msd_scores = np.array(msd_scores_HeLa)\n",
    "visualisation.comparison_preprocessing(msd_scores, y_label='MSD Value')"
   ]
  },
  {
   "cell_type": "markdown",
   "id": "f50a1f6d",
   "metadata": {
    "pycharm": {
     "name": "#%% md\n"
    }
   },
   "source": [
    "Results\n",
    "\n",
    "We used all kinds of combinations of pre-processing functions on N2DL-HeLa cells. The dice score tells that a combination\n",
    "out of median filter and histogram stretching works best, with a mean value of 76 percent correctness. The mean value\n",
    "of all mean surface distance values is 5.527, which is quite low compared to the msd values of other datasets and\n",
    "confirms this pre-processing combination. Only the hausdorff value is 119,439 which is also good compared to other\n",
    "datasets but suggests a different pre-processing method to be the best choice for this kind of picture: the gaussian\n",
    "filter.\n",
    "\n",
    "Discussion\n",
    "\n",
    "The challenge in images of N2DL- HeLa cells is the strongly varying brightness. The median filter makes the image look\n",
    "smoother and the histogram stretching makes the contrast between foreground and background stronger. Therefore, the\n",
    "histogram of intensity levels has a deeper and sharper valley and it will be easier for Otsu’s algorithm to find the\n",
    "correct threshold. It does make sense to choose those pre-processing methods. There is only a correctness of 76 percent,\n",
    "because there are still cells with very low intensity values that are excluded as background and therefore deviate from\n",
    "the ground truth images.\n",
    "\n",
    "**Dataset 3**"
   ]
  },
  {
   "cell_type": "code",
   "execution_count": null,
   "id": "40afbbfb",
   "metadata": {
    "pycharm": {
     "name": "#%%\n"
    }
   },
   "outputs": [],
   "source": [
    "dice_scores_NIH3T3 = []\n",
    "\n",
    "for method in [\"No preprocessing\", \"Median filter\", \"Gaussian filter\", \"Histogram stretching\",\n",
    "               \"Median filter and histogram stretching\", \"Gauss filter and histogram stretching\"]:\n",
    "    dice_scores_NIH3T3.append(data[method][\"NIH3T3\"][\"Dice Score\"])\n",
    "\n",
    "dice_scores = np.array(dice_scores_NIH3T3)\n",
    "visualisation.comparison_preprocessing(dice_scores)\n"
   ]
  },
  {
   "cell_type": "markdown",
   "id": "3915b64e",
   "metadata": {},
   "source": [
    "## Cell nuclei counting\n",
    "\n",
    "### Results\n",
    "\n",
    "The cell nuclei counting algorithm was tested on the ground truth images from N2DH-GOWT1 and N2DL-HeLa datasets. The single cell nuclei in the ground truth images in these datasets have different intensities. Therefore it is possible to extract the ground truth number of cell nuclei from the images.\n",
    "\n",
    "The results are presented in the following tables."
   ]
  },
  {
   "cell_type": "code",
   "execution_count": 9,
   "id": "fce83f88",
   "metadata": {},
   "outputs": [
    {
     "data": {
      "text/html": [
       "<style  type=\"text/css\" >\n",
       "</style><table id=\"T_1a138_\" ><caption>Table 1: Results of the cell counting on the N2DH-GOWT1 dataset.</caption><thead>    <tr>        <th class=\"blank level0\" ></th>        <th class=\"col_heading level0 col0\" >Calculated number</th>        <th class=\"col_heading level0 col1\" >Ground truth number</th>        <th class=\"col_heading level0 col2\" >Absolute difference</th>        <th class=\"col_heading level0 col3\" >Relative difference</th>    </tr></thead><tbody>\n",
       "                <tr>\n",
       "                        <th id=\"T_1a138_level0_row0\" class=\"row_heading level0 row0\" >man_seg01.tif</th>\n",
       "                        <td id=\"T_1a138_row0_col0\" class=\"data row0 col0\" >24</td>\n",
       "                        <td id=\"T_1a138_row0_col1\" class=\"data row0 col1\" >23</td>\n",
       "                        <td id=\"T_1a138_row0_col2\" class=\"data row0 col2\" >1</td>\n",
       "                        <td id=\"T_1a138_row0_col3\" class=\"data row0 col3\" >0.043478</td>\n",
       "            </tr>\n",
       "            <tr>\n",
       "                        <th id=\"T_1a138_level0_row1\" class=\"row_heading level0 row1\" >man_seg21.tif</th>\n",
       "                        <td id=\"T_1a138_row1_col0\" class=\"data row1 col0\" >23</td>\n",
       "                        <td id=\"T_1a138_row1_col1\" class=\"data row1 col1\" >24</td>\n",
       "                        <td id=\"T_1a138_row1_col2\" class=\"data row1 col2\" >-1</td>\n",
       "                        <td id=\"T_1a138_row1_col3\" class=\"data row1 col3\" >-0.041667</td>\n",
       "            </tr>\n",
       "            <tr>\n",
       "                        <th id=\"T_1a138_level0_row2\" class=\"row_heading level0 row2\" >man_seg31.tif</th>\n",
       "                        <td id=\"T_1a138_row2_col0\" class=\"data row2 col0\" >24</td>\n",
       "                        <td id=\"T_1a138_row2_col1\" class=\"data row2 col1\" >22</td>\n",
       "                        <td id=\"T_1a138_row2_col2\" class=\"data row2 col2\" >2</td>\n",
       "                        <td id=\"T_1a138_row2_col3\" class=\"data row2 col3\" >0.090909</td>\n",
       "            </tr>\n",
       "            <tr>\n",
       "                        <th id=\"T_1a138_level0_row3\" class=\"row_heading level0 row3\" >man_seg39.tif</th>\n",
       "                        <td id=\"T_1a138_row3_col0\" class=\"data row3 col0\" >23</td>\n",
       "                        <td id=\"T_1a138_row3_col1\" class=\"data row3 col1\" >25</td>\n",
       "                        <td id=\"T_1a138_row3_col2\" class=\"data row3 col2\" >-2</td>\n",
       "                        <td id=\"T_1a138_row3_col3\" class=\"data row3 col3\" >-0.080000</td>\n",
       "            </tr>\n",
       "            <tr>\n",
       "                        <th id=\"T_1a138_level0_row4\" class=\"row_heading level0 row4\" >man_seg52.tif</th>\n",
       "                        <td id=\"T_1a138_row4_col0\" class=\"data row4 col0\" >30</td>\n",
       "                        <td id=\"T_1a138_row4_col1\" class=\"data row4 col1\" >30</td>\n",
       "                        <td id=\"T_1a138_row4_col2\" class=\"data row4 col2\" >0</td>\n",
       "                        <td id=\"T_1a138_row4_col3\" class=\"data row4 col3\" >0.000000</td>\n",
       "            </tr>\n",
       "            <tr>\n",
       "                        <th id=\"T_1a138_level0_row5\" class=\"row_heading level0 row5\" >man_seg72.tif</th>\n",
       "                        <td id=\"T_1a138_row5_col0\" class=\"data row5 col0\" >28</td>\n",
       "                        <td id=\"T_1a138_row5_col1\" class=\"data row5 col1\" >28</td>\n",
       "                        <td id=\"T_1a138_row5_col2\" class=\"data row5 col2\" >0</td>\n",
       "                        <td id=\"T_1a138_row5_col3\" class=\"data row5 col3\" >0.000000</td>\n",
       "            </tr>\n",
       "    </tbody></table>"
      ],
      "text/plain": [
       "<pandas.io.formats.style.Styler at 0x1a862d343d0>"
      ]
     },
     "execution_count": 9,
     "metadata": {},
     "output_type": "execute_result"
    }
   ],
   "source": [
    "with open(str(pl.Path('Results/cell_counting_results.json')), \"r\") as file:\n",
    "    cell_counting_results = json.load(file)\n",
    "    \n",
    "table_GOWT1 = pd.DataFrame.from_dict(cell_counting_results[\"N2DH-GOWT1\"])\n",
    "table_GOWT1 = table_GOWT1.set_axis([\"man_seg01.tif\", \"man_seg21.tif\", \"man_seg31.tif\", \n",
    "                                    \"man_seg39.tif\", \"man_seg52.tif\", \"man_seg72.tif\"], axis = 0)\n",
    "table_GOWT1.style.set_caption('Table 1: Results of the cell counting on the N2DH-GOWT1 dataset.')"
   ]
  },
  {
   "cell_type": "code",
   "execution_count": 10,
   "id": "69f1b9f3",
   "metadata": {},
   "outputs": [
    {
     "data": {
      "text/html": [
       "<style  type=\"text/css\" >\n",
       "</style><table id=\"T_dac14_\" ><caption>Table 2: Results of the cell counting on the N2DL-HeLa dataset.</caption><thead>    <tr>        <th class=\"blank level0\" ></th>        <th class=\"col_heading level0 col0\" >Calculated number</th>        <th class=\"col_heading level0 col1\" >Ground truth number</th>        <th class=\"col_heading level0 col2\" >Absolute difference</th>        <th class=\"col_heading level0 col3\" >Relative difference</th>    </tr></thead><tbody>\n",
       "                <tr>\n",
       "                        <th id=\"T_dac14_level0_row0\" class=\"row_heading level0 row0\" >man_seg13.tif</th>\n",
       "                        <td id=\"T_dac14_row0_col0\" class=\"data row0 col0\" >58</td>\n",
       "                        <td id=\"T_dac14_row0_col1\" class=\"data row0 col1\" >59</td>\n",
       "                        <td id=\"T_dac14_row0_col2\" class=\"data row0 col2\" >-1</td>\n",
       "                        <td id=\"T_dac14_row0_col3\" class=\"data row0 col3\" >-0.016949</td>\n",
       "            </tr>\n",
       "            <tr>\n",
       "                        <th id=\"T_dac14_level0_row1\" class=\"row_heading level0 row1\" >man_seg52.tif</th>\n",
       "                        <td id=\"T_dac14_row1_col0\" class=\"data row1 col0\" >107</td>\n",
       "                        <td id=\"T_dac14_row1_col1\" class=\"data row1 col1\" >109</td>\n",
       "                        <td id=\"T_dac14_row1_col2\" class=\"data row1 col2\" >-2</td>\n",
       "                        <td id=\"T_dac14_row1_col3\" class=\"data row1 col3\" >-0.018349</td>\n",
       "            </tr>\n",
       "            <tr>\n",
       "                        <th id=\"T_dac14_level0_row2\" class=\"row_heading level0 row2\" >man_seg75.tif</th>\n",
       "                        <td id=\"T_dac14_row2_col0\" class=\"data row2 col0\" >365</td>\n",
       "                        <td id=\"T_dac14_row2_col1\" class=\"data row2 col1\" >349</td>\n",
       "                        <td id=\"T_dac14_row2_col2\" class=\"data row2 col2\" >16</td>\n",
       "                        <td id=\"T_dac14_row2_col3\" class=\"data row2 col3\" >0.045845</td>\n",
       "            </tr>\n",
       "            <tr>\n",
       "                        <th id=\"T_dac14_level0_row3\" class=\"row_heading level0 row3\" >man_seg79.tif</th>\n",
       "                        <td id=\"T_dac14_row3_col0\" class=\"data row3 col0\" >329</td>\n",
       "                        <td id=\"T_dac14_row3_col1\" class=\"data row3 col1\" >342</td>\n",
       "                        <td id=\"T_dac14_row3_col2\" class=\"data row3 col2\" >-13</td>\n",
       "                        <td id=\"T_dac14_row3_col3\" class=\"data row3 col3\" >-0.038012</td>\n",
       "            </tr>\n",
       "    </tbody></table>"
      ],
      "text/plain": [
       "<pandas.io.formats.style.Styler at 0x1a862ce79a0>"
      ]
     },
     "execution_count": 10,
     "metadata": {},
     "output_type": "execute_result"
    }
   ],
   "source": [
    "table_HeLa = pd.DataFrame.from_dict(cell_counting_results[\"N2DL-HeLa\"])\n",
    "table_HeLa = table_HeLa.set_axis([\"man_seg13.tif\", \"man_seg52.tif\", \"man_seg75.tif\", \"man_seg79.tif\"], axis = 0)\n",
    "table_HeLa.style.set_caption('Table 2: Results of the cell counting on the N2DL-HeLa dataset.')"
   ]
  },
  {
   "cell_type": "code",
   "execution_count": 11,
   "id": "4b5b1387",
   "metadata": {},
   "outputs": [
    {
     "name": "stdout",
     "output_type": "stream",
     "text": [
      "Relative error (datasets combined): 0.001474351498372345 +/- 0.04737068686901992\n"
     ]
    }
   ],
   "source": [
    "mean_error = np.abs(np.mean(cell_counting_results[\"N2DL-HeLa\"][\"Relative difference\"] \n",
    "                            + cell_counting_results[\"N2DH-GOWT1\"][\"Relative difference\"]))\n",
    "standard_deviation =np.abs(np.std(cell_counting_results[\"N2DL-HeLa\"][\"Relative difference\"] \n",
    "                                  + cell_counting_results[\"N2DH-GOWT1\"][\"Relative difference\"]))\n",
    "print(\"Relative error (datasets combined): {} +/- {}\".format(mean_error, standard_deviation))"
   ]
  },
  {
   "cell_type": "markdown",
   "id": "d154185e",
   "metadata": {},
   "source": [
    "### Discussion\n",
    "\n",
    "Our algorithm could correctly calculate the cell nuclei number in only 2 of 10 images. The relative error did not exceed 10% and 5% when applied to the N2DH-GOWT1 and on the N2DL-HeLa datasets respectivly. By analyzing the images we determined the possible causes of the errors. Characteristic examples are shown below."
   ]
  },
  {
   "cell_type": "code",
   "execution_count": 10,
   "id": "2fd5a0ba",
   "metadata": {},
   "outputs": [
    {
     "data": {
      "image/png": "[encoded data removed]",
      "text/plain": [
       "<Figure size 432x288 with 2 Axes>"
      ]
     },
     "metadata": {
      "needs_background": "light"
     },
     "output_type": "display_data"
    }
   ],
   "source": [
    "img_GOWT1 = imread(str(pl.Path('Data/N2DH-GOWT1/gt/man_seg21.tif')))\n",
    "img_HeLa = imread(str(pl.Path('Data/N2DL-HeLa/gt/man_seg75.tif')))\n",
    "\n",
    "visualisation.two_img_plot(img_GOWT1[660:800, 800:940], img_HeLa[610:660, 1020:1070], \n",
    "                           \"A. Section of man_seg21.tif\\n   (N2DH-GOWT1)\", \n",
    "                           \"B. Section of man_seg75.tif\\n   (N2DH-HeLa)\")"
   ]
  },
  {
   "cell_type": "markdown",
   "id": "bba02692",
   "metadata": {},
   "source": [
    "Some images contain touching cell nuclei as shown in the figure A. The two cell nuclei have a common border in this case, therefore our algorithm detects only one cell.\n",
    "\n",
    "In other cases there are small black regions inside the cell nuclei, as shown in the following figure B. In this case our algorithm would detect not only the border around the cell, but also the border around the black pixel inside the cell. Since these two borders do not touch, they would be assigned to two different groups and therefore counted as two cell nuclei."
   ]
  },
  {
   "cell_type": "markdown",
   "id": "489233e0",
   "metadata": {
    "pycharm": {
     "name": "#%% md\n"
    }
   },
   "source": [
    "**Conclusion**\n",
    "\n",
    "\n",
    "Hausdorff is not suitable since our segmentation methods are too imprecise and we therefore always receive very random\n",
    "values which are sometimes very high. Hausdorff takes the maximum surface-distance and it is therefore logical that\n",
    "the values turn out to be very high. However, we are of the opinion that Hausdorff is not really of use to us which is\n",
    "the reason why we are not applying this evaluation method.\n",
    "\n",
    "The values of the DSC and MSC differ greatly as both values explain how well the segmentation was performed in two\n",
    "different kind of ways. The DSC focuses on the overlap of the GT and the segmented image. The larger the area of\n",
    "overlap is, the higher the DSC will be.\n",
    "However, the MSD calculates the distance between the edges of the cells. The greater the distance,\n",
    "the greater the MSD, which implies that the segmentation is performed well. Vice versa, the smaller the MSD,\n",
    "the better the segmentation.\n",
    "\n",
    "The median filter does work better than the gaussian filter, because there is more salt-and-pepper noise in the cell \n",
    "nuclei images than there is gaussian noise."
   ]
  }
 ],
 "metadata": {
  "kernelspec": {
   "display_name": "Python 3",
   "language": "python",
   "name": "python3"
  },
  "language_info": {
   "codemirror_mode": {
    "name": "ipython",
    "version": 3
   },
   "file_extension": ".py",
   "mimetype": "text/x-python",
   "name": "python",
   "nbconvert_exporter": "python",
   "pygments_lexer": "ipython3",
   "version": "3.9.4"
  }
 },
 "nbformat": 4,
 "nbformat_minor": 5
}