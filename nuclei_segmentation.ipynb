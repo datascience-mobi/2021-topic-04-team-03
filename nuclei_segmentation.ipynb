{
 "cells": [
  {
   "cell_type": "markdown",
   "id": "ea01f26e",
   "metadata": {},
   "source": [
    "**Report of Project 3: \"Implementation and evaluation of Otsu Thresholding\"**\n",
    "\n",
    "*presented by Elizaveta Chernova, Veronika Schuler, Laura Wächter, Hannah Winter*\n",
    "\n",
    "Otsu Thresholding is "
   ]
  },
  {
   "cell_type": "code",
   "execution_count": 3,
   "id": "83ff2e8d",
   "metadata": {},
   "outputs": [],
   "source": [
    "from nuclei_segmentation import otsu"
   ]
  },
  {
   "cell_type": "code",
   "execution_count": 2,
   "id": "d35d912d",
   "metadata": {},
   "outputs": [],
   "source": [
    "from skimage.io import imread\n",
    "from skimage.io import imshow\n",
    "from matplotlib import pyplot as plt\n",
    "from skimage.filters import threshold_otsu\n",
    "from nuclei_segmentation import pathlist\n",
    "from nuclei_segmentation import otsu\n",
    "from nuclei_segmentation import evaluation\n",
    "import pathlib as pl"
   ]
  },
  {
   "cell_type": "code",
   "execution_count": 5,
   "id": "35b649ab",
   "metadata": {},
   "outputs": [
    {
     "name": "stdout",
     "output_type": "stream",
     "text": [
      "43 0.4985326808412964\n"
     ]
    }
   ],
   "source": [
    "image = imread(str(pl.Path(r'Data\\NIH3T3\\img\\dna-27.png')))\n",
    "thol, gness = otsu.otsu(image)\n",
    "print(thol, gness)"
   ]
  },
  {
   "cell_type": "code",
   "execution_count": 7,
   "id": "05ae7f03",
   "metadata": {},
   "outputs": [],
   "source": [
    "#%%timeit\n",
    "#otsu.otsu(image)"
   ]
  },
  {
   "cell_type": "code",
   "execution_count": 8,
   "id": "d4ccf15c",
   "metadata": {},
   "outputs": [],
   "source": [
    "#%%timeit\n",
    "#threshold_otsu(image)"
   ]
  },
  {
   "cell_type": "code",
   "execution_count": null,
   "id": "30c64750",
   "metadata": {},
   "outputs": [],
   "source": [
    "#%%timeit\n",
    "#otsu.otsuna(image)"
   ]
  },
  {
   "cell_type": "code",
   "execution_count": null,
   "id": "6a939dcf",
   "metadata": {
    "scrolled": true
   },
   "outputs": [],
   "source": [
    "#%%timeit\n",
    "#otsu.otsu_faster(image)"
   ]
  },
  {
   "cell_type": "markdown",
   "id": "756bc080",
   "metadata": {},
   "source": [
    "**This is our pipeline assembly used on all pictures**"
   ]
  },
  {
   "cell_type": "code",
   "execution_count": 12,
   "id": "753f75b7",
   "metadata": {
    "scrolled": true
   },
   "outputs": [],
   "source": [
    "    #N2DH_GOWT1_gt_list = pathlist(\"./Data/N2DH-GOWT1/gt\", \".tif\")\n",
    "    #print(N2DH_GOWT1_gt_list)\n",
    "    #N2DH_GOWT1_img_list = pathlist(\"./Data/N2DH-GOWT1/img\", \".tif\")\n",
    "    #print(N2DH_GOWT1_img_list)\n",
    "\n",
    "    #N2DL_HeLa_gt_list = pathlist(\"./Data/N2DL-HeLa/gt\", \".tif\")\n",
    "    #print(N2DL_HeLa_gt_list)\n",
    "    #N2DL_HeLa_img_list = pathlist(\"./Data/N2DL-HeLa/img\", \".tif\")\n",
    "    #print(N2DL_HeLa_img_list)\n",
    "\n",
    "    #NIH3T3_gt_list = pathlist(\"./Data/NIH3T3/gt\", \".png\")\n",
    "    #print(NIH3T3_gt_list)\n",
    "    #NIH3T3_img_list = pathlist(\"./Data/NIH3T3/im\", \".png\")\n",
    "    #print(NIH3T3_img_list)"
   ]
  },
  {
   "cell_type": "code",
   "execution_count": 11,
   "id": "6b1d1e1c",
   "metadata": {},
   "outputs": [],
   "source": [
    "#%pylab\n",
    "#%matplotlib inline\n",
    "\n",
    "\n",
    "#for image in N2DH_GOWT1_gt_list:\n",
    "    #N2DH_GOWT1 = imread(image)\n",
    "    #figure()\n",
    "    #imshow()"
   ]
  },
  {
   "cell_type": "code",
   "execution_count": 8,
   "id": "3de888ac",
   "metadata": {},
   "outputs": [
    {
     "ename": "NameError",
     "evalue": "name 'imread_collection' is not defined",
     "output_type": "error",
     "traceback": [
      "\u001B[1;31m---------------------------------------------------------------------------\u001B[0m",
      "\u001B[1;31mNameError\u001B[0m                                 Traceback (most recent call last)",
      "\u001B[1;32m<ipython-input-8-de3c2c93b56d>\u001B[0m in \u001B[0;36m<module>\u001B[1;34m\u001B[0m\n\u001B[0;32m      1\u001B[0m \u001B[1;31m#1st dataset N2DH_GOWT1\u001B[0m\u001B[1;33m\u001B[0m\u001B[1;33m\u001B[0m\u001B[1;33m\u001B[0m\u001B[0m\n\u001B[0;32m      2\u001B[0m \u001B[0mimg_N2DH_GOWT1_dir\u001B[0m \u001B[1;33m=\u001B[0m \u001B[1;33m[\u001B[0m\u001B[1;34m'Data/N2DH-GOWT1/img/*.tif'\u001B[0m\u001B[1;33m]\u001B[0m\u001B[1;33m\u001B[0m\u001B[1;33m\u001B[0m\u001B[0m\n\u001B[1;32m----> 3\u001B[1;33m \u001B[0mimg_N2DH_GOWT1\u001B[0m \u001B[1;33m=\u001B[0m \u001B[0mimread_collection\u001B[0m\u001B[1;33m(\u001B[0m\u001B[0mimg_N2DH_GOWT1_dir\u001B[0m\u001B[1;33m,\u001B[0m \u001B[0mplugin\u001B[0m\u001B[1;33m=\u001B[0m\u001B[1;34m'tifffile'\u001B[0m\u001B[1;33m)\u001B[0m\u001B[1;33m\u001B[0m\u001B[1;33m\u001B[0m\u001B[0m\n\u001B[0m\u001B[0;32m      4\u001B[0m \u001B[1;33m\u001B[0m\u001B[0m\n\u001B[0;32m      5\u001B[0m \u001B[0mgt_N2DH_GOWT1_dir\u001B[0m \u001B[1;33m=\u001B[0m \u001B[1;33m[\u001B[0m\u001B[1;34m'Data/N2DH-GOWT1/gt/*.tif'\u001B[0m\u001B[1;33m]\u001B[0m\u001B[1;33m\u001B[0m\u001B[1;33m\u001B[0m\u001B[0m\n",
      "\u001B[1;31mNameError\u001B[0m: name 'imread_collection' is not defined"
     ]
    }
   ],
   "source": [
    "#1st dataset N2DH_GOWT1\n",
    "img_N2DH_GOWT1_dir = ['Data/N2DH-GOWT1/img/*.tif']\n",
    "img_N2DH_GOWT1 = imread_collection(img_N2DH_GOWT1_dir, plugin='tifffile')\n",
    "\n",
    "gt_N2DH_GOWT1_dir = ['Data/N2DH-GOWT1/gt/*.tif']\n",
    "gt_N2DH_GOWT1 = imread_collection(gt_N2DH_GOWT1_dir, plugin='tifffile')\n",
    "\n",
    "#an example of accessing a single image from a list \n",
    "print(img_N2DH_GOWT1[0])\n",
    "plt.imshow(img_N2DH_GOWT1[0], \"gray\")\n",
    "plt.show()\n",
    "\n",
    "#path:\n",
    "clipped_list_N2DH_GOWT1 = []\n",
    "gt_list_N2DH_GOWT1 = []\n",
    "\n",
    "for i in img_N2DH_GOWT1:\n",
    "    threshold, goodness = otsu.otsu_faster(i)\n",
    "    clipped_list_N2DH_GOWT1.append(otsu.clipping(i,threshold))\n",
    "\n",
    "for i in gt_N2DH_GOWT1:\n",
    "    gt_list_N2DH_GOWT1.append(i)\n",
    "\n",
    "for i in range(len(clipped_list_N2DH_GOWT1)):\n",
    "    print(evaluation.dice_score_faster(clipped_list_N2DH_GOWT1[i], gt_list_N2DH_GOWT1[i]))\n",
    "    \n",
    "    \n",
    "\n",
    "\n",
    "#3rd dataset NIH3T3\n",
    "img_NIH3T3_dir = ['Data/NIH3T3/img/*.png']\n",
    "img_NIH3T3 = imread_collection(img_NIH3T3_dir)\n",
    "\n",
    "gt_NIH3T3_dir = ['Data/NIH3T3/gt/*.png']\n",
    "gt_NIH3T3 = imread_collection(gt_NIH3T3_dir)\n",
    "\n",
    "#path:\n",
    "clipped_list_NIH3T3 = []\n",
    "gt_list_NIH3T3 = []\n",
    "\n",
    "for i in img_NIH3T3:\n",
    "    threshold, goodness = otsu.otsu_faster(i)\n",
    "    clipped_list_NIH3T3.append(otsu.clipping(i,threshold))\n",
    "\n",
    "for i in gt_NIH3T3:\n",
    "    gt_list_NIH3T3.append(i)\n",
    "\n",
    "for i in range(len(clipped_list_NIH3T3)):\n",
    "    print(evaluation.dice_score_faster(clipped_list_NIH3T3[i], gt_list_NIH3T3[i]))\n",
    "\n"
   ]
  },
  {
   "cell_type": "code",
   "execution_count": 9,
   "id": "65b3c8bc",
   "metadata": {},
   "outputs": [
    {
     "ename": "NameError",
     "evalue": "name 'imread_collection' is not defined",
     "output_type": "error",
     "traceback": [
      "\u001B[1;31m---------------------------------------------------------------------------\u001B[0m",
      "\u001B[1;31mNameError\u001B[0m                                 Traceback (most recent call last)",
      "\u001B[1;32m<ipython-input-9-ce1c0c40d957>\u001B[0m in \u001B[0;36m<module>\u001B[1;34m\u001B[0m\n\u001B[0;32m      2\u001B[0m \u001B[1;33m\u001B[0m\u001B[0m\n\u001B[0;32m      3\u001B[0m \u001B[0mimg_N2DL_HeLa_dir\u001B[0m \u001B[1;33m=\u001B[0m \u001B[1;33m[\u001B[0m\u001B[1;34m'Data/N2DL-HeLa/img/*.tif'\u001B[0m\u001B[1;33m]\u001B[0m\u001B[1;33m\u001B[0m\u001B[1;33m\u001B[0m\u001B[0m\n\u001B[1;32m----> 4\u001B[1;33m \u001B[0mimg_N2DL_HeLa\u001B[0m \u001B[1;33m=\u001B[0m \u001B[0mimread_collection\u001B[0m\u001B[1;33m(\u001B[0m\u001B[0mimg_N2DL_HeLa_dir\u001B[0m\u001B[1;33m,\u001B[0m \u001B[0mplugin\u001B[0m\u001B[1;33m=\u001B[0m\u001B[1;34m'tifffile'\u001B[0m\u001B[1;33m)\u001B[0m\u001B[1;33m\u001B[0m\u001B[1;33m\u001B[0m\u001B[0m\n\u001B[0m\u001B[0;32m      5\u001B[0m \u001B[1;33m\u001B[0m\u001B[0m\n\u001B[0;32m      6\u001B[0m \u001B[0mgt_N2DL_HeLa_dir\u001B[0m \u001B[1;33m=\u001B[0m \u001B[1;33m[\u001B[0m\u001B[1;34m'Data/N2DL-HeLa/gt/*.tif'\u001B[0m \u001B[1;33m]\u001B[0m\u001B[1;33m\u001B[0m\u001B[1;33m\u001B[0m\u001B[0m\n",
      "\u001B[1;31mNameError\u001B[0m: name 'imread_collection' is not defined"
     ]
    }
   ],
   "source": [
    "#2nd dataset N2DL_HeLa\n",
    "\n",
    "img_N2DL_HeLa_dir = ['Data/N2DL-HeLa/img/*.tif']\n",
    "img_N2DL_HeLa = imread_collection(img_N2DL_HeLa_dir, plugin='tifffile')\n",
    "\n",
    "gt_N2DL_HeLa_dir = ['Data/N2DL-HeLa/gt/*.tif' ]\n",
    "gt_N2DL_HeLa = imread_collection(gt_N2DL_HeLa_dir, plugin='tifffile')\n",
    "\n",
    "#path:\n",
    "clipped_list_N2DL_HeLa = []\n",
    "gt_list_N2DL_HeLa = []\n",
    "\n",
    "for i in img_N2DL_HeLa:\n",
    "    threshold, goodness = otsu.otsu_faster(i)\n",
    "    clipped_list_N2DL_HeLa.append(otsu.clipping(i,threshold))\n",
    "\n",
    "for i in gt_N2DL_HeLa:\n",
    "    gt_list_N2DL_HeLa.append(i)\n",
    "\n",
    "for i in range(len(clipped_list_N2DL_HeLa)):\n",
    "    print(evaluation.dice_score_faster(clipped_list_N2DL_HeLa[i], gt_list_N2DL_HeLa[i]))"
   ]
  },
  {
   "cell_type": "markdown",
   "id": "6cd4c668",
   "metadata": {},
   "source": [
    "**The following shows our pipeline used on a single image**"
   ]
  },
  {
   "cell_type": "code",
   "execution_count": 10,
   "id": "f84386df",
   "metadata": {},
   "outputs": [
    {
     "name": "stdout",
     "output_type": "stream",
     "text": [
      "Using matplotlib backend: Qt5Agg\n",
      "Populating the interactive namespace from numpy and matplotlib\n"
     ]
    },
    {
     "name": "stderr",
     "output_type": "stream",
     "text": [
      "C:\\Users\\hanna\\anaconda3\\lib\\site-packages\\IPython\\core\\magics\\pylab.py:159: UserWarning: pylab import has clobbered these variables: ['imread', 'imshow']\n",
      "`%matplotlib` prevents importing * from pylab and numpy\n",
      "  warn(\"pylab import has clobbered these variables: %s\"  % clobbered +\n"
     ]
    },
    {
     "ename": "TypeError",
     "evalue": "Image data of dtype object cannot be converted to float",
     "output_type": "error",
     "traceback": [
      "\u001B[1;31m---------------------------------------------------------------------------\u001B[0m",
      "\u001B[1;31mTypeError\u001B[0m                                 Traceback (most recent call last)",
      "\u001B[1;32m<ipython-input-10-ad6ad5d54edb>\u001B[0m in \u001B[0;36m<module>\u001B[1;34m\u001B[0m\n\u001B[0;32m      4\u001B[0m \u001B[0mimg\u001B[0m \u001B[1;33m=\u001B[0m \u001B[0mimread\u001B[0m\u001B[1;33m(\u001B[0m\u001B[1;34m\"./Data/N2DH-GOWT1/img/t01.tif\"\u001B[0m\u001B[1;33m)\u001B[0m\u001B[1;33m\u001B[0m\u001B[1;33m\u001B[0m\u001B[0m\n\u001B[0;32m      5\u001B[0m \u001B[0mfigure\u001B[0m\u001B[1;33m(\u001B[0m\u001B[0mfigsize\u001B[0m\u001B[1;33m=\u001B[0m\u001B[1;33m(\u001B[0m\u001B[1;36m15\u001B[0m\u001B[1;33m,\u001B[0m\u001B[1;36m8\u001B[0m\u001B[1;33m)\u001B[0m\u001B[1;33m)\u001B[0m\u001B[1;33m\u001B[0m\u001B[1;33m\u001B[0m\u001B[0m\n\u001B[1;32m----> 6\u001B[1;33m \u001B[0mimshow\u001B[0m\u001B[1;33m(\u001B[0m\u001B[0mimg\u001B[0m\u001B[1;33m,\u001B[0m \u001B[1;34m\"gray\"\u001B[0m\u001B[1;33m)\u001B[0m\u001B[1;33m\u001B[0m\u001B[1;33m\u001B[0m\u001B[0m\n\u001B[0m",
      "\u001B[1;32m~\\anaconda3\\lib\\site-packages\\matplotlib\\pyplot.py\u001B[0m in \u001B[0;36mimshow\u001B[1;34m(X, cmap, norm, aspect, interpolation, alpha, vmin, vmax, origin, extent, filternorm, filterrad, resample, url, data, **kwargs)\u001B[0m\n\u001B[0;32m   2722\u001B[0m         \u001B[0mfilternorm\u001B[0m\u001B[1;33m=\u001B[0m\u001B[1;32mTrue\u001B[0m\u001B[1;33m,\u001B[0m \u001B[0mfilterrad\u001B[0m\u001B[1;33m=\u001B[0m\u001B[1;36m4.0\u001B[0m\u001B[1;33m,\u001B[0m \u001B[0mresample\u001B[0m\u001B[1;33m=\u001B[0m\u001B[1;32mNone\u001B[0m\u001B[1;33m,\u001B[0m \u001B[0murl\u001B[0m\u001B[1;33m=\u001B[0m\u001B[1;32mNone\u001B[0m\u001B[1;33m,\u001B[0m\u001B[1;33m\u001B[0m\u001B[1;33m\u001B[0m\u001B[0m\n\u001B[0;32m   2723\u001B[0m         data=None, **kwargs):\n\u001B[1;32m-> 2724\u001B[1;33m     __ret = gca().imshow(\n\u001B[0m\u001B[0;32m   2725\u001B[0m         \u001B[0mX\u001B[0m\u001B[1;33m,\u001B[0m \u001B[0mcmap\u001B[0m\u001B[1;33m=\u001B[0m\u001B[0mcmap\u001B[0m\u001B[1;33m,\u001B[0m \u001B[0mnorm\u001B[0m\u001B[1;33m=\u001B[0m\u001B[0mnorm\u001B[0m\u001B[1;33m,\u001B[0m \u001B[0maspect\u001B[0m\u001B[1;33m=\u001B[0m\u001B[0maspect\u001B[0m\u001B[1;33m,\u001B[0m\u001B[1;33m\u001B[0m\u001B[1;33m\u001B[0m\u001B[0m\n\u001B[0;32m   2726\u001B[0m         \u001B[0minterpolation\u001B[0m\u001B[1;33m=\u001B[0m\u001B[0minterpolation\u001B[0m\u001B[1;33m,\u001B[0m \u001B[0malpha\u001B[0m\u001B[1;33m=\u001B[0m\u001B[0malpha\u001B[0m\u001B[1;33m,\u001B[0m \u001B[0mvmin\u001B[0m\u001B[1;33m=\u001B[0m\u001B[0mvmin\u001B[0m\u001B[1;33m,\u001B[0m\u001B[1;33m\u001B[0m\u001B[1;33m\u001B[0m\u001B[0m\n",
      "\u001B[1;32m~\\anaconda3\\lib\\site-packages\\matplotlib\\__init__.py\u001B[0m in \u001B[0;36minner\u001B[1;34m(ax, data, *args, **kwargs)\u001B[0m\n\u001B[0;32m   1436\u001B[0m     \u001B[1;32mdef\u001B[0m \u001B[0minner\u001B[0m\u001B[1;33m(\u001B[0m\u001B[0max\u001B[0m\u001B[1;33m,\u001B[0m \u001B[1;33m*\u001B[0m\u001B[0margs\u001B[0m\u001B[1;33m,\u001B[0m \u001B[0mdata\u001B[0m\u001B[1;33m=\u001B[0m\u001B[1;32mNone\u001B[0m\u001B[1;33m,\u001B[0m \u001B[1;33m**\u001B[0m\u001B[0mkwargs\u001B[0m\u001B[1;33m)\u001B[0m\u001B[1;33m:\u001B[0m\u001B[1;33m\u001B[0m\u001B[1;33m\u001B[0m\u001B[0m\n\u001B[0;32m   1437\u001B[0m         \u001B[1;32mif\u001B[0m \u001B[0mdata\u001B[0m \u001B[1;32mis\u001B[0m \u001B[1;32mNone\u001B[0m\u001B[1;33m:\u001B[0m\u001B[1;33m\u001B[0m\u001B[1;33m\u001B[0m\u001B[0m\n\u001B[1;32m-> 1438\u001B[1;33m             \u001B[1;32mreturn\u001B[0m \u001B[0mfunc\u001B[0m\u001B[1;33m(\u001B[0m\u001B[0max\u001B[0m\u001B[1;33m,\u001B[0m \u001B[1;33m*\u001B[0m\u001B[0mmap\u001B[0m\u001B[1;33m(\u001B[0m\u001B[0msanitize_sequence\u001B[0m\u001B[1;33m,\u001B[0m \u001B[0margs\u001B[0m\u001B[1;33m)\u001B[0m\u001B[1;33m,\u001B[0m \u001B[1;33m**\u001B[0m\u001B[0mkwargs\u001B[0m\u001B[1;33m)\u001B[0m\u001B[1;33m\u001B[0m\u001B[1;33m\u001B[0m\u001B[0m\n\u001B[0m\u001B[0;32m   1439\u001B[0m \u001B[1;33m\u001B[0m\u001B[0m\n\u001B[0;32m   1440\u001B[0m         \u001B[0mbound\u001B[0m \u001B[1;33m=\u001B[0m \u001B[0mnew_sig\u001B[0m\u001B[1;33m.\u001B[0m\u001B[0mbind\u001B[0m\u001B[1;33m(\u001B[0m\u001B[0max\u001B[0m\u001B[1;33m,\u001B[0m \u001B[1;33m*\u001B[0m\u001B[0margs\u001B[0m\u001B[1;33m,\u001B[0m \u001B[1;33m**\u001B[0m\u001B[0mkwargs\u001B[0m\u001B[1;33m)\u001B[0m\u001B[1;33m\u001B[0m\u001B[1;33m\u001B[0m\u001B[0m\n",
      "\u001B[1;32m~\\anaconda3\\lib\\site-packages\\matplotlib\\axes\\_axes.py\u001B[0m in \u001B[0;36mimshow\u001B[1;34m(self, X, cmap, norm, aspect, interpolation, alpha, vmin, vmax, origin, extent, filternorm, filterrad, resample, url, **kwargs)\u001B[0m\n\u001B[0;32m   5521\u001B[0m                               resample=resample, **kwargs)\n\u001B[0;32m   5522\u001B[0m \u001B[1;33m\u001B[0m\u001B[0m\n\u001B[1;32m-> 5523\u001B[1;33m         \u001B[0mim\u001B[0m\u001B[1;33m.\u001B[0m\u001B[0mset_data\u001B[0m\u001B[1;33m(\u001B[0m\u001B[0mX\u001B[0m\u001B[1;33m)\u001B[0m\u001B[1;33m\u001B[0m\u001B[1;33m\u001B[0m\u001B[0m\n\u001B[0m\u001B[0;32m   5524\u001B[0m         \u001B[0mim\u001B[0m\u001B[1;33m.\u001B[0m\u001B[0mset_alpha\u001B[0m\u001B[1;33m(\u001B[0m\u001B[0malpha\u001B[0m\u001B[1;33m)\u001B[0m\u001B[1;33m\u001B[0m\u001B[1;33m\u001B[0m\u001B[0m\n\u001B[0;32m   5525\u001B[0m         \u001B[1;32mif\u001B[0m \u001B[0mim\u001B[0m\u001B[1;33m.\u001B[0m\u001B[0mget_clip_path\u001B[0m\u001B[1;33m(\u001B[0m\u001B[1;33m)\u001B[0m \u001B[1;32mis\u001B[0m \u001B[1;32mNone\u001B[0m\u001B[1;33m:\u001B[0m\u001B[1;33m\u001B[0m\u001B[1;33m\u001B[0m\u001B[0m\n",
      "\u001B[1;32m~\\anaconda3\\lib\\site-packages\\matplotlib\\image.py\u001B[0m in \u001B[0;36mset_data\u001B[1;34m(self, A)\u001B[0m\n\u001B[0;32m    698\u001B[0m         if (self._A.dtype != np.uint8 and\n\u001B[0;32m    699\u001B[0m                 not np.can_cast(self._A.dtype, float, \"same_kind\")):\n\u001B[1;32m--> 700\u001B[1;33m             raise TypeError(\"Image data of dtype {} cannot be converted to \"\n\u001B[0m\u001B[0;32m    701\u001B[0m                             \"float\".format(self._A.dtype))\n\u001B[0;32m    702\u001B[0m \u001B[1;33m\u001B[0m\u001B[0m\n",
      "\u001B[1;31mTypeError\u001B[0m: Image data of dtype object cannot be converted to float"
     ]
    },
    {
     "data": {
      "image/png": "[encoded data removed]",
      "text/plain": [
       "<Figure size 1080x576 with 1 Axes>"
      ]
     },
     "metadata": {
      "needs_background": "light"
     },
     "output_type": "display_data"
    }
   ],
   "source": [
    "%pylab\n",
    "%matplotlib inline\n",
    "\n",
    "img = imread(\"./Data/N2DH-GOWT1/img/t01.tif\")\n",
    "figure(figsize=(15,8))\n",
    "imshow(img, \"gray\")"
   ]
  },
  {
   "cell_type": "code",
   "execution_count": 11,
   "id": "06741120",
   "metadata": {
    "scrolled": true
   },
   "outputs": [
    {
     "ename": "SyntaxError",
     "evalue": "cannot assign to operator (<ipython-input-11-2d3188d25d4b>, line 4)",
     "output_type": "error",
     "traceback": [
      "\u001B[1;36m  File \u001B[1;32m\"<ipython-input-11-2d3188d25d4b>\"\u001B[1;36m, line \u001B[1;32m4\u001B[0m\n\u001B[1;33m    gt_N2DH-GOWT1 = imread(\"./Data/N2DH-GOWT1/gt/man_seg01.tif\")\u001B[0m\n\u001B[1;37m    ^\u001B[0m\n\u001B[1;31mSyntaxError\u001B[0m\u001B[1;31m:\u001B[0m cannot assign to operator\n"
     ]
    }
   ],
   "source": [
    "%pylab\n",
    "%matplotlib inline\n",
    "\n",
    "gt_N2DH-GOWT1 = imread(\"./Data/N2DH-GOWT1/gt/man_seg01.tif\")\n",
    "figure(figsize=(15,8))\n",
    "imshow(gt, \"gray\")"
   ]
  },
  {
   "cell_type": "code",
   "execution_count": 12,
   "id": "786d1898",
   "metadata": {},
   "outputs": [
    {
     "ename": "NameError",
     "evalue": "name 'otsu_faster' is not defined",
     "output_type": "error",
     "traceback": [
      "\u001B[1;31m---------------------------------------------------------------------------\u001B[0m",
      "\u001B[1;31mNameError\u001B[0m                                 Traceback (most recent call last)",
      "\u001B[1;32m<ipython-input-12-35384d16f270>\u001B[0m in \u001B[0;36m<module>\u001B[1;34m\u001B[0m\n\u001B[0;32m      1\u001B[0m \u001B[1;31m#using otsu thresholding on a single image\u001B[0m\u001B[1;33m\u001B[0m\u001B[1;33m\u001B[0m\u001B[1;33m\u001B[0m\u001B[0m\n\u001B[1;32m----> 2\u001B[1;33m \u001B[0motsu_threshold\u001B[0m \u001B[1;33m=\u001B[0m \u001B[0motsu_faster\u001B[0m\u001B[1;33m(\u001B[0m\u001B[0mimg\u001B[0m\u001B[1;33m)\u001B[0m\u001B[1;33m\u001B[0m\u001B[1;33m\u001B[0m\u001B[0m\n\u001B[0m\u001B[0;32m      3\u001B[0m \u001B[0motsu_threshold\u001B[0m\u001B[1;33m\u001B[0m\u001B[1;33m\u001B[0m\u001B[0m\n",
      "\u001B[1;31mNameError\u001B[0m: name 'otsu_faster' is not defined"
     ]
    }
   ],
   "source": [
    "#using otsu thresholding on a single image\n",
    "otsu_threshold = otsu_faster(img)\n",
    "otsu_threshold  "
   ]
  },
  {
   "cell_type": "code",
   "execution_count": 13,
   "id": "086e110c",
   "metadata": {},
   "outputs": [
    {
     "ename": "NameError",
     "evalue": "name 'dice_score_faster' is not defined",
     "output_type": "error",
     "traceback": [
      "\u001B[1;31m---------------------------------------------------------------------------\u001B[0m",
      "\u001B[1;31mNameError\u001B[0m                                 Traceback (most recent call last)",
      "\u001B[1;32m<ipython-input-13-0765bf06dedd>\u001B[0m in \u001B[0;36m<module>\u001B[1;34m\u001B[0m\n\u001B[0;32m      1\u001B[0m \u001B[1;31m# dice score\u001B[0m\u001B[1;33m\u001B[0m\u001B[1;33m\u001B[0m\u001B[1;33m\u001B[0m\u001B[0m\n\u001B[1;32m----> 2\u001B[1;33m \u001B[0mdice_score_faster\u001B[0m\u001B[1;33m(\u001B[0m\u001B[0mclipped\u001B[0m\u001B[1;33m,\u001B[0m \u001B[0mgt_N2DH\u001B[0m\u001B[1;33m-\u001B[0m\u001B[0mGOWT1\u001B[0m\u001B[1;33m)\u001B[0m\u001B[1;33m\u001B[0m\u001B[1;33m\u001B[0m\u001B[0m\n\u001B[0m",
      "\u001B[1;31mNameError\u001B[0m: name 'dice_score_faster' is not defined"
     ]
    }
   ],
   "source": [
    "# dice score\n",
    "dice_score_faster(clipped, gt_N2DH-GOWT1)"
   ]
  },
  {
   "cell_type": "code",
   "execution_count": 51,
   "id": "927e9464",
   "metadata": {},
   "outputs": [
    {
     "data": {
      "text/plain": [
       "0.07139965198215116"
      ]
     },
     "execution_count": 51,
     "metadata": {},
     "output_type": "execute_result"
    }
   ],
   "source": [
    "# IoU\n",
    "IoU(clipped,gt_N2DH-GOWT1)\n"
   ]
  },
  {
   "cell_type": "code",
   "execution_count": null,
   "id": "3624cfaf",
   "metadata": {},
   "outputs": [],
   "source": []
  }
 ],
 "metadata": {
  "kernelspec": {
   "name": "pycharm-30a9a304",
   "language": "python",
   "display_name": "PyCharm (2021-topic-04-team-03)"
  },
  "language_info": {
   "codemirror_mode": {
    "name": "ipython",
    "version": 3
   },
   "file_extension": ".py",
   "mimetype": "text/x-python",
   "name": "python",
   "nbconvert_exporter": "python",
   "pygments_lexer": "ipython3",
   "version": "3.9.4"
  }
 },
 "nbformat": 4,
 "nbformat_minor": 5
}