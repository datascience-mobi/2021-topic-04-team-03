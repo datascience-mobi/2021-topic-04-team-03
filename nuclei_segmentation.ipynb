{
 "cells": [
  {
   "cell_type": "markdown",
   "id": "ea01f26e",
   "metadata": {},
   "source": [
    "**Report of Project 3: \"Implementation and evaluation of Otsu Thresholding\"**\n",
    "\n",
    "*presented by Elizaveta Chernova, Veronika Schuler, Laura Wächter, Hannah Winter*\n",
    "\n",
    "**Abstract**\n",
    "\n",
    "Otsu Thresholding is a valuable method in detecting the ideal threshold of an image. It is therefore used frequently in\n",
    "image segmentation for biological and medical purposes. Here we use the implementation of this algorithm for\n",
    "segmentation of cell nuclei from the datasets N2DH-GOWT1 and N2DL-HeLa cells of the cell tracking challenge and the\n",
    "NIH3T3 images of Coelho and colleagues in their challenge of nuclear segmentation in microscope cell images. For\n",
    "pre-processing the images, we used histogram stretching for images with low resolution, a gaussian filter, and a median\n",
    "filter as well as twolevel Otsu Thresholding for excluding reflections in some images. The implemented Otsu algorithm\n",
    "used on the pre-processed images was then evaluated with the Dice score, the median surface distance function and the\n",
    "Hausdorff metric. We find that...\n",
    "\n",
    "**Table of contents**\n",
    "\n",
    "...\n",
    "\n",
    "**Introduction**\n",
    "\n",
    "In computer vision, image segmentation is applied to a variety of challenges. Those include detecting cell sizes\n",
    "and the number of cells in high-throughput cytometry or for cell tracking as well as segmentation of brain images.\n",
    "\n",
    "Challenges that need to be tackled in finding the correct threshold for image segmentation are low contrast images,\n",
    "reflections and random noise that can occur in the images. A starting point would be the preprocessing of the images\n",
    "before using the Otsu algorithm.\n",
    "\n",
    "The performance of the algorithm can be evaluated using the dice score as well as the median surface distance function\n",
    "and the Hausdorff metric, that compare the segmented image to the hand-segmented ground truth image.\n",
    "\n",
    "Furthermore, to give a purpose to the segmented images, we implemented a cell counting algorithm to determine the number\n",
    "of cells in an image. In addition to the performance measurement of the algorithm, we visualize the results with an\n",
    "overlay of the segmented image and the ground truth image.\n",
    "\n",
    "**Description of the datasets**\n",
    "\n",
    "N2DH-GOWT1 cells\n",
    "\n",
    "The dataset N2DH-GOWT1 ot the cell tracking challenge (Bártová et al., 2011) contain images of GFP-Gowt1 mouse embryonic\n",
    "stem cells that have been derived with time-lapse confocal microscopy with a Leica TCS SP5 microscope. The varying\n",
    "brightness of the cells makes it hard to distinguish all the cells from the background.\n",
    "\n",
    "N2HL-HeLa cells\n",
    "\n",
    "The dataset N2DL-HeLa of the cell tracking challenge (Neumann et al., 2010) contains images of human epithelial cells\n",
    "of cervical cancer. Those images have been derived with an Olympus IX81 microscope used for live imaging of fluorescently\n",
    "labelled chromosomes. The challenge in those images is the varying brightness of cells.\n",
    "\n",
    "NIH3T3 cells \n",
    "\n",
    "The dataset NIH3T3 (Coelho et al., 2009) contains images of several mouse embryonic fibroblast cells. Those images have also \n",
    "been derived with fluorescence microscopy images and the difficulty in segmenting those images mainly lies in the bright\n",
    "light spots, probably from the microscope used, that make it difficult for the algorithm to choose a threshold between\n",
    "the brightness of the cells and the background and not between the brightness of light spots and the cells.\n",
    "\n",
    "**Import of modules**"
   ]
  },
  {
   "cell_type": "code",
   "execution_count": 2,
   "id": "d35d912d",
   "metadata": {},
   "outputs": [],
   "source": [
    "from skimage.io import imread\n",
    "from skimage.io import imshow\n",
    "from matplotlib import pyplot as plt\n",
    "from skimage.filters import threshold_otsu\n",
    "from nuclei_segmentation import pathlist\n",
    "from nuclei_segmentation import otsu\n",
    "from nuclei_segmentation import evaluation\n",
    "import pathlib as pl"
   ]
  },
  {
   "cell_type": "markdown",
   "source": [
    "**Loading images, Preprocessing, Otsu, Evaluation of usage on datasets, Discussion**"
   ],
   "metadata": {
    "collapsed": false,
    "pycharm": {
     "name": "#%% md\n"
    }
   }
  },
  {
   "cell_type": "code",
   "execution_count": 5,
   "id": "35b649ab",
   "metadata": {},
   "outputs": [
    {
     "name": "stdout",
     "output_type": "stream",
     "text": [
      "43 0.4985326808412964\n"
     ]
    }
   ],
   "source": [
    "image = imread(str(pl.Path(r'Data\\NIH3T3\\img\\dna-27.png')))\n",
    "thol, gness = otsu.otsu(image)\n",
    "print(thol, gness)"
   ]
  },
  {
   "cell_type": "code",
   "execution_count": 8,
   "id": "d4ccf15c",
   "metadata": {},
   "outputs": [],
   "source": [
    "#otsu.otsu(image)\n"
   ]
  },
  {
   "cell_type": "code",
   "execution_count": null,
   "id": "6a939dcf",
   "metadata": {
    "scrolled": true
   },
   "outputs": [],
   "source": [
    "#threshold_otsu(image)"
   ]
  },
  {
   "cell_type": "markdown",
   "id": "65b3c8bc",
   "metadata": {
    "pycharm": {
     "name": "#%% md\n"
    }
   },
   "source": [
    "**This is our pipeline assembly used on all pictures**\n"
   ]
  },
  {
   "cell_type": "code",
   "execution_count": 11,
   "id": "06741120",
   "metadata": {
    "scrolled": true
   },
   "outputs": [
    {
     "ename": "SyntaxError",
     "evalue": "cannot assign to operator (<ipython-input-11-2d3188d25d4b>, line 4)",
     "output_type": "error",
     "traceback": [
      "\u001B[1;36m  File \u001B[1;32m\"<ipython-input-11-2d3188d25d4b>\"\u001B[1;36m, line \u001B[1;32m4\u001B[0m\n\u001B[1;33m    gt_N2DH-GOWT1 = imread(\"./Data/N2DH-GOWT1/gt/man_seg01.tif\")\u001B[0m\n\u001B[1;37m    ^\u001B[0m\n\u001B[1;31mSyntaxError\u001B[0m\u001B[1;31m:\u001B[0m cannot assign to operator\n"
     ]
    }
   ],
   "source": [
    "#1st dataset N2DH_GOWT1\n",
    "img_N2DH_GOWT1_dir = ['Data/N2DH-GOWT1/img/*.tif']\n",
    "img_N2DH_GOWT1 = imread_collection(img_N2DH_GOWT1_dir, plugin='tifffile')\n",
    "\n",
    "gt_N2DH_GOWT1_dir = ['Data/N2DH-GOWT1/gt/*.tif']\n",
    "gt_N2DH_GOWT1 = imread_collection(gt_N2DH_GOWT1_dir, plugin='tifffile')\n",
    "\n",
    "#an example of accessing a single image from a list \n",
    "print(img_N2DH_GOWT1[0])\n",
    "plt.imshow(img_N2DH_GOWT1[0], \"gray\")\n",
    "plt.show()\n",
    "\n",
    "#path:\n",
    "clipped_list_N2DH_GOWT1 = []\n",
    "gt_list_N2DH_GOWT1 = []\n",
    "\n",
    "for i in img_N2DH_GOWT1:\n",
    "    threshold, goodness = otsu.otsu_faster(i)\n",
    "    clipped_list_N2DH_GOWT1.append(otsu.clipping(i,threshold))\n",
    "\n",
    "for i in gt_N2DH_GOWT1:\n",
    "    gt_list_N2DH_GOWT1.append(i)\n",
    "\n",
    "for i in range(len(clipped_list_N2DH_GOWT1)):\n",
    "    print(evaluation.dice_score_faster(clipped_list_N2DH_GOWT1[i], gt_list_N2DH_GOWT1[i]))\n",
    "    \n",
    "    \n",
    "\n",
    "\n",
    "#3rd dataset NIH3T3\n",
    "img_NIH3T3_dir = ['Data/NIH3T3/img/*.png']\n",
    "img_NIH3T3 = imread_collection(img_NIH3T3_dir)\n",
    "\n",
    "gt_NIH3T3_dir = ['Data/NIH3T3/gt/*.png']\n",
    "gt_NIH3T3 = imread_collection(gt_NIH3T3_dir)\n",
    "\n",
    "#path:\n",
    "clipped_list_NIH3T3 = []\n",
    "gt_list_NIH3T3 = []\n",
    "\n",
    "for i in img_NIH3T3:\n",
    "    threshold, goodness = otsu.otsu_faster(i)\n",
    "    clipped_list_NIH3T3.append(otsu.clipping(i,threshold))\n",
    "\n",
    "for i in gt_NIH3T3:\n",
    "    gt_list_NIH3T3.append(i)\n",
    "\n",
    "for i in range(len(clipped_list_NIH3T3)):\n",
    "    print(evaluation.dice_score_faster(clipped_list_NIH3T3[i], gt_list_NIH3T3[i]))\n",
    "\n"
   ]
  },
  {
   "cell_type": "code",
   "execution_count": 12,
   "id": "786d1898",
   "metadata": {},
   "outputs": [
    {
     "ename": "NameError",
     "evalue": "name 'otsu_faster' is not defined",
     "output_type": "error",
     "traceback": [
      "\u001B[1;31m---------------------------------------------------------------------------\u001B[0m",
      "\u001B[1;31mNameError\u001B[0m                                 Traceback (most recent call last)",
      "\u001B[1;32m<ipython-input-12-35384d16f270>\u001B[0m in \u001B[0;36m<module>\u001B[1;34m\u001B[0m\n\u001B[0;32m      1\u001B[0m \u001B[1;31m#using otsu thresholding on a single image\u001B[0m\u001B[1;33m\u001B[0m\u001B[1;33m\u001B[0m\u001B[1;33m\u001B[0m\u001B[0m\n\u001B[1;32m----> 2\u001B[1;33m \u001B[0motsu_threshold\u001B[0m \u001B[1;33m=\u001B[0m \u001B[0motsu_faster\u001B[0m\u001B[1;33m(\u001B[0m\u001B[0mimg\u001B[0m\u001B[1;33m)\u001B[0m\u001B[1;33m\u001B[0m\u001B[1;33m\u001B[0m\u001B[0m\n\u001B[0m\u001B[0;32m      3\u001B[0m \u001B[0motsu_threshold\u001B[0m\u001B[1;33m\u001B[0m\u001B[1;33m\u001B[0m\u001B[0m\n",
      "\u001B[1;31mNameError\u001B[0m: name 'otsu_faster' is not defined"
     ]
    }
   ],
   "source": [
    "#using otsu thresholding on a single image\n",
    "otsu_threshold = otsu_faster(img)\n",
    "otsu_threshold  "
   ]
  },
  {
   "cell_type": "code",
   "execution_count": 13,
   "id": "086e110c",
   "metadata": {},
   "outputs": [
    {
     "ename": "NameError",
     "evalue": "name 'dice_score_faster' is not defined",
     "output_type": "error",
     "traceback": [
      "\u001B[1;31m---------------------------------------------------------------------------\u001B[0m",
      "\u001B[1;31mNameError\u001B[0m                                 Traceback (most recent call last)",
      "\u001B[1;32m<ipython-input-13-0765bf06dedd>\u001B[0m in \u001B[0;36m<module>\u001B[1;34m\u001B[0m\n\u001B[0;32m      1\u001B[0m \u001B[1;31m# dice score\u001B[0m\u001B[1;33m\u001B[0m\u001B[1;33m\u001B[0m\u001B[1;33m\u001B[0m\u001B[0m\n\u001B[1;32m----> 2\u001B[1;33m \u001B[0mdice_score_faster\u001B[0m\u001B[1;33m(\u001B[0m\u001B[0mclipped\u001B[0m\u001B[1;33m,\u001B[0m \u001B[0mgt_N2DH\u001B[0m\u001B[1;33m-\u001B[0m\u001B[0mGOWT1\u001B[0m\u001B[1;33m)\u001B[0m\u001B[1;33m\u001B[0m\u001B[1;33m\u001B[0m\u001B[0m\n\u001B[0m",
      "\u001B[1;31mNameError\u001B[0m: name 'dice_score_faster' is not defined"
     ]
    }
   ],
   "source": [
    "# dice score\n",
    "dice_score_faster(clipped, gt_N2DH-GOWT1)"
   ]
  },
  {
   "cell_type": "code",
   "execution_count": 51,
   "id": "927e9464",
   "metadata": {},
   "outputs": [
    {
     "data": {
      "text/plain": [
       "0.07139965198215116"
      ]
     },
     "execution_count": 51,
     "metadata": {},
     "output_type": "execute_result"
    }
   ],
   "source": [
    "# IoU\n",
    "IoU(clipped,gt_N2DH-GOWT1)\n"
   ]
  },
  {
   "cell_type": "code",
   "execution_count": null,
   "id": "3624cfaf",
   "metadata": {},
   "outputs": [],
   "source": []
  }
 ],
 "metadata": {
  "kernelspec": {
   "name": "pycharm-30a9a304",
   "language": "python",
   "display_name": "PyCharm (2021-topic-04-team-03)"
  },
  "language_info": {
   "codemirror_mode": {
    "name": "ipython",
    "version": 3
   },
   "file_extension": ".py",
   "mimetype": "text/x-python",
   "name": "python",
   "nbconvert_exporter": "python",
   "pygments_lexer": "ipython3",
   "version": "3.9.4"
  }
 },
 "nbformat": 4,
 "nbformat_minor": 5
}